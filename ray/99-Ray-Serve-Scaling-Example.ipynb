{
 "cells": [
  {
   "cell_type": "markdown",
   "id": "9c7b3c12-fd19-4c5a-a0d2-bf6c603b0202",
   "metadata": {},
   "source": [
    "# Autoscaling and concurrency in Ray Serve example\n",
    "This notebook explains\n",
    "1. How to expose a Python function as a Ray Serve API.\n",
    "2. What parameters are available to tweak the performance of the Ray Serve application\n",
    "3. How the Ray serve application scales when invoked concurrently"
   ]
  },
  {
   "cell_type": "code",
   "execution_count": 12,
   "id": "604f3a7c-5e41-4492-acc2-4e715369def4",
   "metadata": {
    "tags": []
   },
   "outputs": [],
   "source": [
    "RAY_SERVE_URL = \"http://ray-cluster-serve.mlnow.frenoid.com:30080\"\n",
    "ROUTE_PREFIX = \"/mprimes\""
   ]
  },
  {
   "cell_type": "code",
   "execution_count": 1,
   "id": "3915de9b-1dc0-437c-b79f-e978787f145d",
   "metadata": {
    "tags": []
   },
   "outputs": [
    {
     "name": "stderr",
     "output_type": "stream",
     "text": [
      "2025-03-01 17:38:00,985\tINFO worker.py:1514 -- Using address ray://192.168.3.201:30101 set in the environment variable RAY_ADDRESS\n",
      "2025-03-01 17:38:00,991\tINFO client_builder.py:244 -- Passing the following kwargs to ray.init() on the server: log_to_driver\n",
      "SIGTERM handler is not set because current thread is not the main thread.\n"
     ]
    },
    {
     "data": {
      "application/vnd.jupyter.widget-view+json": {
       "model_id": "6cc15767727a4c4db679c468ec4fec1d",
       "version_major": 2,
       "version_minor": 0
      },
      "text/html": [
       "<div class=\"lm-Widget p-Widget lm-Panel p-Panel jp-Cell-outputWrapper\">\n",
       "    <div style=\"margin-left: 50px;display: flex;flex-direction: row;align-items: center\">\n",
       "        <div class=\"jp-RenderedHTMLCommon\" style=\"display: flex; flex-direction: row;\">\n",
       "  <svg viewBox=\"0 0 567 224\" fill=\"none\" xmlns=\"http://www.w3.org/2000/svg\" style=\"height: 3em;\">\n",
       "    <g clip-path=\"url(#clip0_4338_178347)\">\n",
       "        <path d=\"M341.29 165.561H355.29L330.13 129.051C345.63 123.991 354.21 112.051 354.21 94.2307C354.21 71.3707 338.72 58.1807 311.88 58.1807H271V165.561H283.27V131.661H311.8C314.25 131.661 316.71 131.501 319.01 131.351L341.25 165.561H341.29ZM283.29 119.851V70.0007H311.82C331.3 70.0007 342.34 78.2907 342.34 94.5507C342.34 111.271 331.34 119.861 311.82 119.861L283.29 119.851ZM451.4 138.411L463.4 165.561H476.74L428.74 58.1807H416L367.83 165.561H380.83L392.83 138.411H451.4ZM446.19 126.601H398L422 72.1407L446.24 126.601H446.19ZM526.11 128.741L566.91 58.1807H554.35L519.99 114.181L485.17 58.1807H472.44L514.01 129.181V165.541H526.13V128.741H526.11Z\" fill=\"var(--jp-ui-font-color0)\"/>\n",
       "        <path d=\"M82.35 104.44C84.0187 97.8827 87.8248 92.0678 93.1671 87.9146C98.5094 83.7614 105.083 81.5067 111.85 81.5067C118.617 81.5067 125.191 83.7614 130.533 87.9146C135.875 92.0678 139.681 97.8827 141.35 104.44H163.75C164.476 101.562 165.622 98.8057 167.15 96.2605L127.45 56.5605C121.071 60.3522 113.526 61.6823 106.235 60.3005C98.9443 58.9187 92.4094 54.9203 87.8602 49.0574C83.3109 43.1946 81.0609 35.8714 81.5332 28.4656C82.0056 21.0599 85.1679 14.0819 90.4252 8.8446C95.6824 3.60726 102.672 0.471508 110.08 0.0272655C117.487 -0.416977 124.802 1.86091 130.647 6.4324C136.493 11.0039 140.467 17.5539 141.821 24.8501C143.175 32.1463 141.816 39.6859 138 46.0505L177.69 85.7505C182.31 82.9877 187.58 81.4995 192.962 81.4375C198.345 81.3755 203.648 82.742 208.33 85.3976C213.012 88.0532 216.907 91.9029 219.616 96.5544C222.326 101.206 223.753 106.492 223.753 111.875C223.753 117.258 222.326 122.545 219.616 127.197C216.907 131.848 213.012 135.698 208.33 138.353C203.648 141.009 198.345 142.375 192.962 142.313C187.58 142.251 182.31 140.763 177.69 138L138 177.7C141.808 184.071 143.155 191.614 141.79 198.91C140.424 206.205 136.44 212.75 130.585 217.313C124.731 221.875 117.412 224.141 110.004 223.683C102.596 223.226 95.6103 220.077 90.3621 214.828C85.1139 209.58 81.9647 202.595 81.5072 195.187C81.0497 187.779 83.3154 180.459 87.878 174.605C92.4405 168.751 98.9853 164.766 106.281 163.401C113.576 162.035 121.119 163.383 127.49 167.19L167.19 127.49C165.664 124.941 164.518 122.182 163.79 119.3H141.39C139.721 125.858 135.915 131.673 130.573 135.826C125.231 139.98 118.657 142.234 111.89 142.234C105.123 142.234 98.5494 139.98 93.2071 135.826C87.8648 131.673 84.0587 125.858 82.39 119.3H60C58.1878 126.495 53.8086 132.78 47.6863 136.971C41.5641 141.163 34.1211 142.972 26.7579 142.059C19.3947 141.146 12.6191 137.574 7.70605 132.014C2.79302 126.454 0.0813599 119.29 0.0813599 111.87C0.0813599 104.451 2.79302 97.2871 7.70605 91.7272C12.6191 86.1673 19.3947 82.5947 26.7579 81.6817C34.1211 80.7686 41.5641 82.5781 47.6863 86.7696C53.8086 90.9611 58.1878 97.2456 60 104.44H82.35ZM100.86 204.32C103.407 206.868 106.759 208.453 110.345 208.806C113.93 209.159 117.527 208.258 120.522 206.256C123.517 204.254 125.725 201.276 126.771 197.828C127.816 194.38 127.633 190.677 126.253 187.349C124.874 184.021 122.383 181.274 119.205 179.577C116.027 177.88 112.359 177.337 108.826 178.042C105.293 178.746 102.113 180.654 99.8291 183.44C97.5451 186.226 96.2979 189.718 96.3 193.32C96.2985 195.364 96.7006 197.388 97.4831 199.275C98.2656 201.163 99.4132 202.877 100.86 204.32ZM204.32 122.88C206.868 120.333 208.453 116.981 208.806 113.396C209.159 109.811 208.258 106.214 206.256 103.219C204.254 100.223 201.275 98.0151 197.827 96.97C194.38 95.9249 190.676 96.1077 187.348 97.4873C184.02 98.8669 181.274 101.358 179.577 104.536C177.879 107.714 177.337 111.382 178.041 114.915C178.746 118.448 180.653 121.627 183.439 123.911C186.226 126.195 189.717 127.443 193.32 127.44C195.364 127.443 197.388 127.042 199.275 126.259C201.163 125.476 202.878 124.328 204.32 122.88ZM122.88 19.4205C120.333 16.8729 116.981 15.2876 113.395 14.9347C109.81 14.5817 106.213 15.483 103.218 17.4849C100.223 19.4868 98.0146 22.4654 96.9696 25.9131C95.9245 29.3608 96.1073 33.0642 97.4869 36.3922C98.8665 39.7202 101.358 42.4668 104.535 44.1639C107.713 45.861 111.381 46.4036 114.914 45.6992C118.447 44.9949 121.627 43.0871 123.911 40.301C126.195 37.515 127.442 34.0231 127.44 30.4205C127.44 28.3772 127.038 26.3539 126.255 24.4664C125.473 22.5788 124.326 20.8642 122.88 19.4205ZM19.42 100.86C16.8725 103.408 15.2872 106.76 14.9342 110.345C14.5813 113.93 15.4826 117.527 17.4844 120.522C19.4863 123.518 22.4649 125.726 25.9127 126.771C29.3604 127.816 33.0638 127.633 36.3918 126.254C39.7198 124.874 42.4664 122.383 44.1635 119.205C45.8606 116.027 46.4032 112.359 45.6988 108.826C44.9944 105.293 43.0866 102.114 40.3006 99.8296C37.5145 97.5455 34.0227 96.2983 30.42 96.3005C26.2938 96.3018 22.337 97.9421 19.42 100.86ZM100.86 100.86C98.3125 103.408 96.7272 106.76 96.3742 110.345C96.0213 113.93 96.9226 117.527 98.9244 120.522C100.926 123.518 103.905 125.726 107.353 126.771C110.8 127.816 114.504 127.633 117.832 126.254C121.16 124.874 123.906 122.383 125.604 119.205C127.301 116.027 127.843 112.359 127.139 108.826C126.434 105.293 124.527 102.114 121.741 99.8296C118.955 97.5455 115.463 96.2983 111.86 96.3005C109.817 96.299 107.793 96.701 105.905 97.4835C104.018 98.2661 102.303 99.4136 100.86 100.86Z\" fill=\"#00AEEF\"/>\n",
       "    </g>\n",
       "    <defs>\n",
       "        <clipPath id=\"clip0_4338_178347\">\n",
       "            <rect width=\"566.93\" height=\"223.75\" fill=\"white\"/>\n",
       "        </clipPath>\n",
       "    </defs>\n",
       "  </svg>\n",
       "</div>\n",
       "\n",
       "        <table class=\"jp-RenderedHTMLCommon\" style=\"border-collapse: collapse;color: var(--jp-ui-font-color1);font-size: var(--jp-ui-font-size1);\">\n",
       "    <tr>\n",
       "        <td style=\"text-align: left\"><b>Python version:</b></td>\n",
       "        <td style=\"text-align: left\"><b>3.11.11</b></td>\n",
       "    </tr>\n",
       "    <tr>\n",
       "        <td style=\"text-align: left\"><b>Ray version:</b></td>\n",
       "        <td style=\"text-align: left\"><b>2.41.0</b></td>\n",
       "    </tr>\n",
       "    <tr>\n",
       "    <td style=\"text-align: left\"><b>Dashboard:</b></td>\n",
       "    <td style=\"text-align: left\"><b><a href=\"http://10.244.2.9:8265\" target=\"_blank\">http://10.244.2.9:8265</a></b></td>\n",
       "</tr>\n",
       "\n",
       "</table>\n",
       "\n",
       "    </div>\n",
       "</div>\n"
      ],
      "text/plain": [
       "ClientContext(dashboard_url='10.244.2.9:8265', python_version='3.11.11', ray_version='2.41.0', ray_commit='021baf7dd07db54c2dc23a7490f0604673f8d0d6', _num_clients=1, _context_to_restore=<ray.util.client._ClientContext object at 0x7f51c08ce910>, protocol_version=None)"
      ]
     },
     "execution_count": 1,
     "metadata": {},
     "output_type": "execute_result"
    },
    {
     "name": "stderr",
     "output_type": "stream",
     "text": [
      "\u001b[33m(raylet, ip=10.244.1.10)\u001b[0m [2025-03-01 09:41:07,515 C 66 66] worker_pool.cc:1436:  Check failed: worker->GetAssignedJobId().IsNil() || worker->GetAssignedJobId() == pop_worker_request->job_id \n",
      "\u001b[33m(raylet, ip=10.244.1.10)\u001b[0m *** StackTrace Information ***\n",
      "\u001b[33m(raylet, ip=10.244.1.10)\u001b[0m /home/ray/anaconda3/lib/python3.11/site-packages/ray/core/src/ray/raylet/raylet(+0xc17c7a) [0x5603a8830c7a] ray::operator<<()\n",
      "\u001b[33m(raylet, ip=10.244.1.10)\u001b[0m /home/ray/anaconda3/lib/python3.11/site-packages/ray/core/src/ray/raylet/raylet(+0xc1a0c1) [0x5603a88330c1] ray::RayLog::~RayLog()\n",
      "\u001b[33m(raylet, ip=10.244.1.10)\u001b[0m /home/ray/anaconda3/lib/python3.11/site-packages/ray/core/src/ray/raylet/raylet(+0x34afe0) [0x5603a7f63fe0] ray::raylet::WorkerPool::PopWorker()\n",
      "\u001b[33m(raylet, ip=10.244.1.10)\u001b[0m /home/ray/anaconda3/lib/python3.11/site-packages/ray/core/src/ray/raylet/raylet(+0x34b6ef) [0x5603a7f646ef] ray::raylet::WorkerPool::PopWorker()\n",
      "\u001b[33m(raylet, ip=10.244.1.10)\u001b[0m /home/ray/anaconda3/lib/python3.11/site-packages/ray/core/src/ray/raylet/raylet(+0x3b32dc) [0x5603a7fcc2dc] ray::raylet::LocalTaskManager::DispatchScheduledTasksToWorkers()\n",
      "\u001b[33m(raylet, ip=10.244.1.10)\u001b[0m /home/ray/anaconda3/lib/python3.11/site-packages/ray/core/src/ray/raylet/raylet(+0x3b430e) [0x5603a7fcd30e] ray::raylet::LocalTaskManager::QueueAndScheduleTask()\n",
      "\u001b[33m(raylet, ip=10.244.1.10)\u001b[0m /home/ray/anaconda3/lib/python3.11/site-packages/ray/core/src/ray/raylet/raylet(+0x49d204) [0x5603a80b6204] ray::raylet::ClusterTaskManager::ScheduleOnNode()\n",
      "\u001b[33m(raylet, ip=10.244.1.10)\u001b[0m /home/ray/anaconda3/lib/python3.11/site-packages/ray/core/src/ray/raylet/raylet(+0x4a007e) [0x5603a80b907e] ray::raylet::ClusterTaskManager::ScheduleAndDispatchTasks()\n",
      "\u001b[33m(raylet, ip=10.244.1.10)\u001b[0m /home/ray/anaconda3/lib/python3.11/site-packages/ray/core/src/ray/raylet/raylet(+0x4a159f) [0x5603a80ba59f] ray::raylet::ClusterTaskManager::QueueAndScheduleTask()\n",
      "\u001b[33m(raylet, ip=10.244.1.10)\u001b[0m /home/ray/anaconda3/lib/python3.11/site-packages/ray/core/src/ray/raylet/raylet(+0x32fc63) [0x5603a7f48c63] ray::raylet::NodeManager::HandleRequestWorkerLease()\n",
      "\u001b[33m(raylet, ip=10.244.1.10)\u001b[0m /home/ray/anaconda3/lib/python3.11/site-packages/ray/core/src/ray/raylet/raylet(+0x321597) [0x5603a7f3a597] ray::rpc::ServerCallImpl<>::HandleRequestImpl()\n",
      "\u001b[33m(raylet, ip=10.244.1.10)\u001b[0m /home/ray/anaconda3/lib/python3.11/site-packages/ray/core/src/ray/raylet/raylet(+0x6a0248) [0x5603a82b9248] EventTracker::RecordExecution()\n",
      "\u001b[33m(raylet, ip=10.244.1.10)\u001b[0m /home/ray/anaconda3/lib/python3.11/site-packages/ray/core/src/ray/raylet/raylet(+0x69b23e) [0x5603a82b423e] std::_Function_handler<>::_M_invoke()\n",
      "\u001b[33m(raylet, ip=10.244.1.10)\u001b[0m /home/ray/anaconda3/lib/python3.11/site-packages/ray/core/src/ray/raylet/raylet(+0x69b6b6) [0x5603a82b46b6] boost::asio::detail::completion_handler<>::do_complete()\n",
      "\u001b[33m(raylet, ip=10.244.1.10)\u001b[0m /home/ray/anaconda3/lib/python3.11/site-packages/ray/core/src/ray/raylet/raylet(+0xc8c2bb) [0x5603a88a52bb] boost::asio::detail::scheduler::do_run_one()\n",
      "\u001b[33m(raylet, ip=10.244.1.10)\u001b[0m /home/ray/anaconda3/lib/python3.11/site-packages/ray/core/src/ray/raylet/raylet(+0xc8e849) [0x5603a88a7849] boost::asio::detail::scheduler::run()\n",
      "\u001b[33m(raylet, ip=10.244.1.10)\u001b[0m /home/ray/anaconda3/lib/python3.11/site-packages/ray/core/src/ray/raylet/raylet(+0xc8ed62) [0x5603a88a7d62] boost::asio::io_context::run()\n",
      "\u001b[33m(raylet, ip=10.244.1.10)\u001b[0m /home/ray/anaconda3/lib/python3.11/site-packages/ray/core/src/ray/raylet/raylet(+0x1ecb8f) [0x5603a7e05b8f] main\n",
      "\u001b[33m(raylet, ip=10.244.1.10)\u001b[0m /lib/x86_64-linux-gnu/libc.so.6(+0x29d90) [0x7f38e4844d90]\n",
      "\u001b[33m(raylet, ip=10.244.1.10)\u001b[0m /lib/x86_64-linux-gnu/libc.so.6(__libc_start_main+0x80) [0x7f38e4844e40] __libc_start_main\n",
      "\u001b[33m(raylet, ip=10.244.1.10)\u001b[0m /home/ray/anaconda3/lib/python3.11/site-packages/ray/core/src/ray/raylet/raylet(+0x246ec7) [0x5603a7e5fec7]\n",
      "\u001b[33m(raylet, ip=10.244.1.10)\u001b[0m \n",
      "\u001b[33m(raylet, ip=10.244.1.10)\u001b[0m [2025-03-01 08:36:13,629 W 1358906 1358906] gcs_rpc_client.h:148: Failed to connect to GCS at address ray-cluster-head-svc.ray-cluster.svc.cluster.local:6379 within 5 seconds.\n",
      "\u001b[33m(raylet, ip=10.244.1.10)\u001b[0m [2025-03-01 08:37:08,467 E 66 66] worker_pool.cc:565: Some workers of the worker process(1358906) have not registered within the timeout. The process is still alive, probably it's hanging during start.\n",
      "\u001b[33m(raylet, ip=10.244.1.10)\u001b[0m [2025-03-01 08:37:13,678 W 1359125 1359125] gcs_rpc_client.h:148: Failed to connect to GCS at address ray-cluster-head-svc.ray-cluster.svc.cluster.local:6379 within 5 seconds.\n",
      "\u001b[33m(raylet, ip=10.244.1.10)\u001b[0m [2025-03-01 08:38:08,516 E 66 66] worker_pool.cc:565: Some workers of the worker process(1359125) have not registered within the timeout. The process is still alive, probably it's hanging during start.\n",
      "\u001b[33m(raylet, ip=10.244.1.10)\u001b[0m [2025-03-01 08:38:13,690 W 1359345 1359345] gcs_rpc_client.h:148: Failed to connect to GCS at address ray-cluster-head-svc.ray-cluster.svc.cluster.local:6379 within 5 seconds.\n",
      "\u001b[33m(raylet, ip=10.244.1.10)\u001b[0m [2025-03-01 08:39:08,530 E 66 66] worker_pool.cc:565: Some workers of the worker process(1359345) have not registered within the timeout. The process is still alive, probably it's hanging during start.\n",
      "\u001b[33m(raylet, ip=10.244.1.10)\u001b[0m [2025-03-01 08:39:13,708 W 1359564 1359564] gcs_rpc_client.h:148: Failed to connect to GCS at address ray-cluster-head-svc.ray-cluster.svc.cluster.local:6379 within 5 seconds.\n",
      "\u001b[33m(raylet, ip=10.244.1.10)\u001b[0m [2025-03-01 08:40:08,545 E 66 66] worker_pool.cc:565: Some workers of the worker process(1359564) have not registered within the timeout. The process is still alive, probably it's hanging during start.\n",
      "\u001b[33m(raylet, ip=10.244.1.10)\u001b[0m [2025-03-01 08:40:13,721 W 1359783 1359783] gcs_rpc_client.h:148: Failed to connect to GCS at address ray-cluster-head-svc.ray-cluster.svc.cluster.local:6379 within 5 seconds.\n",
      "\u001b[33m(raylet, ip=10.244.1.10)\u001b[0m [2025-03-01 08:41:08,561 E 66 66] worker_pool.cc:565: Some workers of the worker process(1359783) have not registered within the timeout. The process is still alive, probably it's hanging during start.\n",
      "\u001b[33m(raylet, ip=10.244.1.10)\u001b[0m [2025-03-01 08:41:13,742 W 1360002 1360002] gcs_rpc_client.h:148: Failed to connect to GCS at address ray-cluster-head-svc.ray-cluster.svc.cluster.local:6379 within 5 seconds.\n",
      "\u001b[33m(raylet, ip=10.244.1.10)\u001b[0m [2025-03-01 08:42:08,578 E 66 66] worker_pool.cc:565: Some workers of the worker process(1360002) have not registered within the timeout. The process is still alive, probably it's hanging during start.\n",
      "\u001b[33m(raylet, ip=10.244.1.10)\u001b[0m [2025-03-01 08:42:13,755 W 1360221 1360221] gcs_rpc_client.h:148: Failed to connect to GCS at address ray-cluster-head-svc.ray-cluster.svc.cluster.local:6379 within 5 seconds.\n",
      "\u001b[33m(raylet, ip=10.244.1.10)\u001b[0m [2025-03-01 08:43:08,592 E 66 66] worker_pool.cc:565: Some workers of the worker process(1360221) have not registered within the timeout. The process is still alive, probably it's hanging during start.\n",
      "\u001b[33m(raylet, ip=10.244.1.10)\u001b[0m [2025-03-01 08:43:13,772 W 1360440 1360440] gcs_rpc_client.h:148: Failed to connect to GCS at address ray-cluster-head-svc.ray-cluster.svc.cluster.local:6379 within 5 seconds.\n",
      "\u001b[33m(raylet, ip=10.244.1.10)\u001b[0m [2025-03-01 08:44:08,608 E 66 66] worker_pool.cc:565: Some workers of the worker process(1360440) have not registered within the timeout. The process is still alive, probably it's hanging during start.\n",
      "\u001b[33m(raylet, ip=10.244.1.10)\u001b[0m [2025-03-01 08:44:13,790 W 1360659 1360659] gcs_rpc_client.h:148: Failed to connect to GCS at address ray-cluster-head-svc.ray-cluster.svc.cluster.local:6379 within 5 seconds.\n",
      "\u001b[33m(raylet, ip=10.244.1.10)\u001b[0m [2025-03-01 08:45:08,627 E 66 66] worker_pool.cc:565: Some workers of the worker process(1360659) have not registered within the timeout. The process is still alive, probably it's hanging during start.\n",
      "\u001b[33m(raylet, ip=10.244.1.10)\u001b[0m [2025-03-01 08:45:13,809 W 1360878 1360878] gcs_rpc_client.h:148: Failed to connect to GCS at address ray-cluster-head-svc.ray-cluster.svc.cluster.local:6379 within 5 seconds.\n",
      "\u001b[33m(raylet, ip=10.244.1.10)\u001b[0m [2025-03-01 08:46:08,644 E 66 66] worker_pool.cc:565: Some workers of the worker process(1360878) have not registered within the timeout. The process is still alive, probably it's hanging during start.\n",
      "\u001b[33m(raylet, ip=10.244.1.10)\u001b[0m [2025-03-01 08:46:13,826 W 1361098 1361098] gcs_rpc_client.h:148: Failed to connect to GCS at address ray-cluster-head-svc.ray-cluster.svc.cluster.local:6379 within 5 seconds.\n",
      "\u001b[33m(raylet, ip=10.244.1.10)\u001b[0m [2025-03-01 08:47:08,662 E 66 66] worker_pool.cc:565: Some workers of the worker process(1361098) have not registered within the timeout. The process is still alive, probably it's hanging during start.\n",
      "\u001b[33m(raylet, ip=10.244.1.10)\u001b[0m [2025-03-01 08:47:13,845 W 1361317 1361317] gcs_rpc_client.h:148: Failed to connect to GCS at address ray-cluster-head-svc.ray-cluster.svc.cluster.local:6379 within 5 seconds.\n",
      "\u001b[33m(raylet, ip=10.244.1.10)\u001b[0m [2025-03-01 08:48:08,678 E 66 66] worker_pool.cc:565: Some workers of the worker process(1361317) have not registered within the timeout. The process is still alive, probably it's hanging during start.\n",
      "\u001b[33m(raylet, ip=10.244.1.10)\u001b[0m [2025-03-01 08:48:13,860 W 1361536 1361536] gcs_rpc_client.h:148: Failed to connect to GCS at address ray-cluster-head-svc.ray-cluster.svc.cluster.local:6379 within 5 seconds.\n",
      "\u001b[33m(raylet, ip=10.244.1.10)\u001b[0m [2025-03-01 08:49:08,694 E 66 66] worker_pool.cc:565: Some workers of the worker process(1361536) have not registered within the timeout. The process is still alive, probably it's hanging during start.\n",
      "\u001b[33m(raylet, ip=10.244.1.10)\u001b[0m [2025-03-01 08:49:13,871 W 1361756 1361756] gcs_rpc_client.h:148: Failed to connect to GCS at address ray-cluster-head-svc.ray-cluster.svc.cluster.local:6379 within 5 seconds.\n",
      "\u001b[33m(raylet, ip=10.244.1.10)\u001b[0m [2025-03-01 08:50:08,711 E 66 66] worker_pool.cc:565: Some workers of the worker process(1361756) have not registered within the timeout. The process is still alive, probably it's hanging during start.\n",
      "\u001b[33m(raylet, ip=10.244.1.10)\u001b[0m [2025-03-01 08:50:13,891 W 1361975 1361975] gcs_rpc_client.h:148: Failed to connect to GCS at address ray-cluster-head-svc.ray-cluster.svc.cluster.local:6379 within 5 seconds.\n",
      "\u001b[33m(raylet, ip=10.244.1.10)\u001b[0m [2025-03-01 08:51:08,729 E 66 66] worker_pool.cc:565: Some workers of the worker process(1361975) have not registered within the timeout. The process is still alive, probably it's hanging during start.\n",
      "\u001b[33m(raylet, ip=10.244.1.10)\u001b[0m [2025-03-01 08:51:13,901 W 1362194 1362194] gcs_rpc_client.h:148: Failed to connect to GCS at address ray-cluster-head-svc.ray-cluster.svc.cluster.local:6379 within 5 seconds.\n",
      "\u001b[33m(raylet, ip=10.244.1.10)\u001b[0m [2025-03-01 08:52:08,740 E 66 66] worker_pool.cc:565: Some workers of the worker process(1362194) have not registered within the timeout. The process is still alive, probably it's hanging during start.\n",
      "\u001b[33m(raylet, ip=10.244.1.10)\u001b[0m [2025-03-01 08:52:13,907 W 1362413 1362413] gcs_rpc_client.h:148: Failed to connect to GCS at address ray-cluster-head-svc.ray-cluster.svc.cluster.local:6379 within 5 seconds.\n",
      "\u001b[33m(raylet, ip=10.244.1.10)\u001b[0m [2025-03-01 08:53:08,744 E 66 66] worker_pool.cc:565: Some workers of the worker process(1362413) have not registered within the timeout. The process is still alive, probably it's hanging during start.\n",
      "\u001b[33m(raylet, ip=10.244.1.10)\u001b[0m [2025-03-01 08:53:13,907 W 1362632 1362632] gcs_rpc_client.h:148: Failed to connect to GCS at address ray-cluster-head-svc.ray-cluster.svc.cluster.local:6379 within 5 seconds.\n",
      "\u001b[33m(raylet, ip=10.244.1.10)\u001b[0m [2025-03-01 08:54:08,748 E 66 66] worker_pool.cc:565: Some workers of the worker process(1362632) have not registered within the timeout. The process is still alive, probably it's hanging during start.\n",
      "\u001b[33m(raylet, ip=10.244.1.10)\u001b[0m [2025-03-01 08:54:13,914 W 1362851 1362851] gcs_rpc_client.h:148: Failed to connect to GCS at address ray-cluster-head-svc.ray-cluster.svc.cluster.local:6379 within 5 seconds.\n",
      "\u001b[33m(raylet, ip=10.244.1.10)\u001b[0m [2025-03-01 08:55:08,752 E 66 66] worker_pool.cc:565: Some workers of the worker process(1362851) have not registered within the timeout. The process is still alive, probably it's hanging during start.\n",
      "\u001b[33m(raylet, ip=10.244.1.10)\u001b[0m [2025-03-01 08:55:13,916 W 1363071 1363071] gcs_rpc_client.h:148: Failed to connect to GCS at address ray-cluster-head-svc.ray-cluster.svc.cluster.local:6379 within 5 seconds.\n",
      "\u001b[33m(raylet, ip=10.244.1.10)\u001b[0m [2025-03-01 08:56:08,756 E 66 66] worker_pool.cc:565: Some workers of the worker process(1363071) have not registered within the timeout. The process is still alive, probably it's hanging during start.\n",
      "\u001b[33m(raylet, ip=10.244.1.10)\u001b[0m [2025-03-01 08:56:13,920 W 1363290 1363290] gcs_rpc_client.h:148: Failed to connect to GCS at address ray-cluster-head-svc.ray-cluster.svc.cluster.local:6379 within 5 seconds.\n",
      "\u001b[33m(raylet, ip=10.244.1.10)\u001b[0m [2025-03-01 09:41:07,515 C 66 66] worker_pool.cc:1436:  Check failed: worker->GetAssignedJobId().IsNil() || worker->GetAssignedJobId() == pop_worker_request->job_id \n",
      "\u001b[33m(raylet, ip=10.244.1.10)\u001b[0m *** StackTrace Information ***\n",
      "\u001b[33m(raylet, ip=10.244.1.10)\u001b[0m /home/ray/anaconda3/lib/python3.11/site-packages/ray/core/src/ray/raylet/raylet(+0xc17c7a) [0x5603a8830c7a] ray::operator<<()\n",
      "\u001b[33m(raylet, ip=10.244.1.10)\u001b[0m /home/ray/anaconda3/lib/python3.11/site-packages/ray/core/src/ray/raylet/raylet(+0xc1a0c1) [0x5603a88330c1] ray::RayLog::~RayLog()\n",
      "\u001b[33m(raylet, ip=10.244.1.10)\u001b[0m /home/ray/anaconda3/lib/python3.11/site-packages/ray/core/src/ray/raylet/raylet(+0x34afe0) [0x5603a7f63fe0] ray::raylet::WorkerPool::PopWorker()\n",
      "\u001b[33m(raylet, ip=10.244.1.10)\u001b[0m /home/ray/anaconda3/lib/python3.11/site-packages/ray/core/src/ray/raylet/raylet(+0x34b6ef) [0x5603a7f646ef] ray::raylet::WorkerPool::PopWorker()\n",
      "\u001b[33m(raylet, ip=10.244.1.10)\u001b[0m /home/ray/anaconda3/lib/python3.11/site-packages/ray/core/src/ray/raylet/raylet(+0x3b32dc) [0x5603a7fcc2dc] ray::raylet::LocalTaskManager::DispatchScheduledTasksToWorkers()\n",
      "\u001b[33m(raylet, ip=10.244.1.10)\u001b[0m /home/ray/anaconda3/lib/python3.11/site-packages/ray/core/src/ray/raylet/raylet(+0x3b430e) [0x5603a7fcd30e] ray::raylet::LocalTaskManager::QueueAndScheduleTask()\n",
      "\u001b[33m(raylet, ip=10.244.1.10)\u001b[0m /home/ray/anaconda3/lib/python3.11/site-packages/ray/core/src/ray/raylet/raylet(+0x49d204) [0x5603a80b6204] ray::raylet::ClusterTaskManager::ScheduleOnNode()\n",
      "\u001b[33m(raylet, ip=10.244.1.10)\u001b[0m /home/ray/anaconda3/lib/python3.11/site-packages/ray/core/src/ray/raylet/raylet(+0x4a007e) [0x5603a80b907e] ray::raylet::ClusterTaskManager::ScheduleAndDispatchTasks()\n",
      "\u001b[33m(raylet, ip=10.244.1.10)\u001b[0m /home/ray/anaconda3/lib/python3.11/site-packages/ray/core/src/ray/raylet/raylet(+0x4a159f) [0x5603a80ba59f] ray::raylet::ClusterTaskManager::QueueAndScheduleTask()\n",
      "\u001b[33m(raylet, ip=10.244.1.10)\u001b[0m /home/ray/anaconda3/lib/python3.11/site-packages/ray/core/src/ray/raylet/raylet(+0x32fc63) [0x5603a7f48c63] ray::raylet::NodeManager::HandleRequestWorkerLease()\n",
      "\u001b[33m(raylet, ip=10.244.1.10)\u001b[0m /home/ray/anaconda3/lib/python3.11/site-packages/ray/core/src/ray/raylet/raylet(+0x321597) [0x5603a7f3a597] ray::rpc::ServerCallImpl<>::HandleRequestImpl()\n",
      "\u001b[33m(raylet, ip=10.244.1.10)\u001b[0m /home/ray/anaconda3/lib/python3.11/site-packages/ray/core/src/ray/raylet/raylet(+0x6a0248) [0x5603a82b9248] EventTracker::RecordExecution()\n",
      "\u001b[33m(raylet, ip=10.244.1.10)\u001b[0m /home/ray/anaconda3/lib/python3.11/site-packages/ray/core/src/ray/raylet/raylet(+0x69b23e) [0x5603a82b423e] std::_Function_handler<>::_M_invoke()\n",
      "\u001b[33m(raylet, ip=10.244.1.10)\u001b[0m /home/ray/anaconda3/lib/python3.11/site-packages/ray/core/src/ray/raylet/raylet(+0x69b6b6) [0x5603a82b46b6] boost::asio::detail::completion_handler<>::do_complete()\n",
      "\u001b[33m(raylet, ip=10.244.1.10)\u001b[0m /home/ray/anaconda3/lib/python3.11/site-packages/ray/core/src/ray/raylet/raylet(+0xc8c2bb) [0x5603a88a52bb] boost::asio::detail::scheduler::do_run_one()\n",
      "\u001b[33m(raylet, ip=10.244.1.10)\u001b[0m /home/ray/anaconda3/lib/python3.11/site-packages/ray/core/src/ray/raylet/raylet(+0xc8e849) [0x5603a88a7849] boost::asio::detail::scheduler::run()\n",
      "\u001b[33m(raylet, ip=10.244.1.10)\u001b[0m /home/ray/anaconda3/lib/python3.11/site-packages/ray/core/src/ray/raylet/raylet(+0xc8ed62) [0x5603a88a7d62] boost::asio::io_context::run()\n",
      "\u001b[33m(raylet, ip=10.244.1.10)\u001b[0m /home/ray/anaconda3/lib/python3.11/site-packages/ray/core/src/ray/raylet/raylet(+0x1ecb8f) [0x5603a7e05b8f] main\n",
      "\u001b[33m(raylet, ip=10.244.1.10)\u001b[0m /lib/x86_64-linux-gnu/libc.so.6(+0x29d90) [0x7f38e4844d90]\n",
      "\u001b[33m(raylet, ip=10.244.1.10)\u001b[0m /lib/x86_64-linux-gnu/libc.so.6(__libc_start_main+0x80) [0x7f38e4844e40] __libc_start_main\n",
      "\u001b[33m(raylet, ip=10.244.1.10)\u001b[0m /home/ray/anaconda3/lib/python3.11/site-packages/ray/core/src/ray/raylet/raylet(+0x246ec7) [0x5603a7e5fec7]\n",
      "\u001b[33m(raylet, ip=10.244.1.10)\u001b[0m \n"
     ]
    }
   ],
   "source": [
    "import ray\n",
    "import os\n",
    "\n",
    "os.environ[\"RAY_ADDRESS\"] = \"ray://192.168.3.201:30101\"\n",
    "\n",
    "ray.init()"
   ]
  },
  {
   "cell_type": "markdown",
   "id": "69fa4687-7186-416d-9cc7-10903dde8ef9",
   "metadata": {},
   "source": [
    "## Mersenne Primes calculation function"
   ]
  },
  {
   "cell_type": "code",
   "execution_count": 4,
   "id": "8ce7f955-cd65-4684-a05b-95c1f4b9ed73",
   "metadata": {
    "tags": []
   },
   "outputs": [],
   "source": [
    "@ray.remote\n",
    "def generate_mersenne_primes(start, end):\n",
    "    m_primes = []\n",
    "    def lucas_lehmer(p):\n",
    "        s = 4\n",
    "        m = 2 ** p - 1\n",
    "        for _ in range(p - 2):\n",
    "            s = ((s * s) - 2) % m\n",
    "        return s == 0\n",
    "\n",
    "    def is_prime(number):\n",
    "        \"\"\"\n",
    "        the efficiency of this doesn't matter much as we're\n",
    "        only using it to test the primeness of the exponents\n",
    "        not the mersenne primes themselves\n",
    "        \"\"\"\n",
    "\n",
    "        if number % 2 == 0:\n",
    "            return number == 2\n",
    "\n",
    "        i = 3\n",
    "        while i * i <= number:\n",
    "            if number % i == 0:\n",
    "                return False\n",
    "            i += 2\n",
    "\n",
    "        return True\n",
    "    \n",
    "    for i in range(start, end, 2):  # generate up to M20, found in 1961\n",
    "        if is_prime(i) and lucas_lehmer(i):\n",
    "            m_primes.append(2 ** i - 1)\n",
    "    \n",
    "    return m_primes"
   ]
  },
  {
   "cell_type": "code",
   "execution_count": 5,
   "id": "94e949b4-77fa-49be-97ec-a9f090d451be",
   "metadata": {
    "tags": []
   },
   "outputs": [
    {
     "data": {
      "text/plain": [
       "[7,\n",
       " 31,\n",
       " 127,\n",
       " 8191,\n",
       " 131071,\n",
       " 524287,\n",
       " 2147483647,\n",
       " 2305843009213693951,\n",
       " 618970019642690137449562111,\n",
       " 162259276829213363391578010288127,\n",
       " 170141183460469231731687303715884105727]"
      ]
     },
     "execution_count": 5,
     "metadata": {},
     "output_type": "execute_result"
    }
   ],
   "source": [
    "ref = generate_mersenne_primes.remote(1, 500)\n",
    "ray.get(ref)"
   ]
  },
  {
   "cell_type": "markdown",
   "id": "25576b7b-8366-46d8-a5d2-a1fc37084692",
   "metadata": {},
   "source": [
    "### Calling the function concurrently\n",
    "You can do so using ray.remote and the futures package"
   ]
  },
  {
   "cell_type": "code",
   "execution_count": 8,
   "id": "e3738157-3127-427d-8f7c-a2ddf5e12853",
   "metadata": {
    "tags": []
   },
   "outputs": [
    {
     "name": "stdout",
     "output_type": "stream",
     "text": [
      "responses: 1\n",
      "responses: 2\n",
      "responses: 3\n",
      "responses: 4\n",
      "responses: 5\n",
      "responses: 6\n",
      "responses: 7\n",
      "responses: 8\n",
      "responses: 9\n",
      "responses: 10\n",
      "responses: 11\n",
      "responses: 12\n",
      "responses: 13\n",
      "responses: 14\n",
      "responses: 15\n",
      "responses: 16\n",
      "responses: 17\n",
      "responses: 18\n",
      "responses: 19\n",
      "responses: 20\n",
      "responses: 21\n",
      "responses: 22\n",
      "responses: 23\n",
      "responses: 24\n",
      "responses: 25\n",
      "responses: 26\n",
      "responses: 27\n",
      "responses: 28\n",
      "responses: 29\n",
      "responses: 30\n"
     ]
    }
   ],
   "source": [
    "import concurrent.futures\n",
    "\n",
    "CONCURRENCY = 3\n",
    "TOTAL_CALLS = 30\n",
    "\n",
    "START = 1\n",
    "STOP = 1000\n",
    "\n",
    "def call_mprime(start: int, stop: int) -> list[int]:\n",
    "    ref = generate_mersenne_primes.remote(start, stop)\n",
    "    return ray.get(ref)\n",
    "\n",
    "pool = concurrent.futures.ThreadPoolExecutor(max_workers=CONCURRENCY)\n",
    "\n",
    "futures = []\n",
    "for i in range(TOTAL_CALLS):\n",
    "    futures.append(pool.submit(call_mprime, START, STOP))\n",
    "    \n",
    "responses, response_count = 0, 0\n",
    "for f in futures:\n",
    "    res = f.result()\n",
    "    response_count += 1\n",
    "    print(f\"responses: {response_count}\")\n",
    "    #print(res)"
   ]
  },
  {
   "cell_type": "markdown",
   "id": "5043ab5e-310e-49a2-a704-2ef51df10d63",
   "metadata": {},
   "source": [
    "## Deploying Mersenne Primes function Ray Serve application\n",
    "\n",
    "### First startup  Ray Serve"
   ]
  },
  {
   "cell_type": "code",
   "execution_count": 9,
   "id": "53e95abd-8d61-4d80-b7e1-62c104db5e4e",
   "metadata": {
    "tags": []
   },
   "outputs": [
    {
     "name": "stderr",
     "output_type": "stream",
     "text": [
      "INFO 2025-03-01 17:39:07,295 serve 2116265 -- Connecting to existing Serve app in namespace \"serve\". New http options will not be applied.\n"
     ]
    }
   ],
   "source": [
    "from ray import serve\n",
    "\n",
    "serve.start(http_options={\"location\": \"EveryNode\",\n",
    "                          \"host\": \"0.0.0.0\",\n",
    "                          \"port\": 8000,\n",
    "                          \"request_timeout_s\": 180.0})"
   ]
  },
  {
   "cell_type": "markdown",
   "id": "d66db8ba-5c7c-4589-bd0e-290787d53010",
   "metadata": {},
   "source": [
    "### Declare and deploy the Ray Serve application"
   ]
  },
  {
   "cell_type": "code",
   "execution_count": 21,
   "id": "9b383e82-b56c-4c6a-8a6e-aa70d5000b74",
   "metadata": {
    "tags": []
   },
   "outputs": [],
   "source": [
    "from ray import serve\n",
    "from ray.serve.handle import DeploymentHandle\n",
    "from starlette.requests import Request\n",
    "\n",
    "@serve.deployment(\n",
    "    ray_actor_options={\"num_cpus\": 1.0, \"num_gpus\": 0},\n",
    "    autoscaling_config={\n",
    "        \"target_num_ongoing_requests_per_replica\": 2,\n",
    "        \"min_replicas\": 1,\n",
    "        \"initial_replicas\": 1,\n",
    "        \"max_replicas\": 4\n",
    "    },\n",
    ")\n",
    "class MersennePrimes:\n",
    "    def __init__(self):\n",
    "        print(\"MersennePrimes is ready to serve\")\n",
    "    \n",
    "    def generate_mersenne_primes(self, start, end) -> list[int]:    \n",
    "        def lucas_lehmer(p):\n",
    "            s = 4\n",
    "            m = 2 ** p - 1\n",
    "            for _ in range(p - 2):\n",
    "                s = ((s * s) - 2) % m\n",
    "            return s == 0\n",
    "\n",
    "        def is_prime(number):\n",
    "            \"\"\"\n",
    "            the efficiency of this doesn't matter much as we're\n",
    "            only using it to test the primeness of the exponents\n",
    "            not the mersenne primes themselves\n",
    "            \"\"\"\n",
    "\n",
    "            if number % 2 == 0:\n",
    "                return number == 2\n",
    "\n",
    "            i = 3\n",
    "            while i * i <= number:\n",
    "                if number % i == 0:\n",
    "                    return False\n",
    "                i += 2\n",
    "\n",
    "            return True\n",
    "        \n",
    "        m_primes = []\n",
    "        for i in range(start, end, 2):  # generate up to M20, found in 1961\n",
    "            if is_prime(i) and lucas_lehmer(i):\n",
    "                m_primes.append(2 ** i - 1)\n",
    "\n",
    "        return m_primes\n",
    "\n",
    "    async def __call__(self, request: Request) -> list[str]:\n",
    "        start = (await request.json())[\"start\"]\n",
    "        stop = (await request.json())[\"stop\"]\n",
    "        print(f\"MersennePrimes called with {start} {stop}\")\n",
    "        m_primes = self.generate_mersenne_primes(start, stop)\n",
    "        \n",
    "        return m_primes"
   ]
  },
  {
   "cell_type": "code",
   "execution_count": 22,
   "id": "757668ed-ce02-4910-a624-056869c017af",
   "metadata": {
    "tags": []
   },
   "outputs": [
    {
     "name": "stderr",
     "output_type": "stream",
     "text": [
      "INFO 2025-03-01 17:41:07,301 serve 2116265 -- Connecting to existing Serve app in namespace \"serve\". New http options will not be applied.\n",
      "WARNING 2025-03-01 17:41:07,302 serve 2116265 -- The new client HTTP config differs from the existing one in the following fields: ['host', 'request_timeout_s']. The new HTTP config is ignored.\n",
      "INFO 2025-03-01 17:41:21,365 serve 2116265 -- Application 'MersennePrimes' is ready at http://0.0.0.0:8000/mprimes.\n",
      "INFO 2025-03-01 17:41:21,365 serve 2116265 -- Deployed app 'MersennePrimes' successfully.\n"
     ]
    }
   ],
   "source": [
    "app = MersennePrimes.bind()\n",
    "handle: DeploymentHandle = serve.run(app, name=\"MersennePrimes\", route_prefix=ROUTE_PREFIX)"
   ]
  },
  {
   "cell_type": "markdown",
   "id": "e8e1a9a1-811f-4778-82f1-df0bc9fb7599",
   "metadata": {},
   "source": [
    "### Declare and deploy the Ray Serve application"
   ]
  },
  {
   "cell_type": "code",
   "execution_count": 23,
   "id": "b234bbe9-d31b-406b-a50c-0a65cd41be08",
   "metadata": {
    "tags": []
   },
   "outputs": [
    {
     "name": "stdout",
     "output_type": "stream",
     "text": [
      "http://ray-cluster-serve.mlnow.frenoid.com:30080/mprimes\n"
     ]
    }
   ],
   "source": [
    "app_url = f\"{RAY_SERVE_URL}{ROUTE_PREFIX}\"\n",
    "\n",
    "print(app_url)"
   ]
  },
  {
   "cell_type": "code",
   "execution_count": 24,
   "id": "0e32a85d-2cd6-4190-87b0-f0335c28e0fa",
   "metadata": {
    "tags": []
   },
   "outputs": [
    {
     "data": {
      "text/plain": [
       "<Response [200]>"
      ]
     },
     "execution_count": 24,
     "metadata": {},
     "output_type": "execute_result"
    }
   ],
   "source": [
    "import requests\n",
    "\n",
    "start = 3\n",
    "stop = 1000\n",
    "\n",
    "res = requests.get(app_url,\n",
    "                   json={\"start\":start, \"stop\": stop})\n",
    "res"
   ]
  },
  {
   "cell_type": "code",
   "execution_count": 29,
   "id": "faee59a9-d05c-468e-b490-b1c5bc7d1da8",
   "metadata": {
    "tags": []
   },
   "outputs": [
    {
     "data": {
      "text/plain": [
       "[7,\n",
       " 31,\n",
       " 127,\n",
       " 8191,\n",
       " 131071,\n",
       " 524287,\n",
       " 2147483647,\n",
       " 2305843009213693951,\n",
       " 618970019642690137449562111,\n",
       " 162259276829213363391578010288127,\n",
       " 170141183460469231731687303715884105727,\n",
       " 6864797660130609714981900799081393217269435300143305409394463459185543183397656052122559640661454554977296311391480858037121987999716643812574028291115057151,\n",
       " 531137992816767098689588206552468627329593117727031923199444138200403559860852242739162502265229285668889329486246501015346579337652707239409519978766587351943831270835393219031728127]"
      ]
     },
     "execution_count": 29,
     "metadata": {},
     "output_type": "execute_result"
    }
   ],
   "source": [
    "res.json()"
   ]
  },
  {
   "cell_type": "markdown",
   "id": "5be5f8f8-f60f-43c4-9106-ddd260a3f4c0",
   "metadata": {},
   "source": [
    "### Call the Ray Serve application concurrently\n",
    "\n",
    "Observe the replica scaling"
   ]
  },
  {
   "cell_type": "code",
   "execution_count": 38,
   "id": "863d74e6-7670-421b-9bcd-e5ac2f107075",
   "metadata": {
    "tags": []
   },
   "outputs": [
    {
     "name": "stdout",
     "output_type": "stream",
     "text": [
      "Begin iteration 0\n",
      "Params: sleep_Seconds 39, start 12, stop 2981\n",
      "Responses received: 15\n",
      "Iteration 0 complete\n",
      "Begin iteration 1\n",
      "Params: sleep_Seconds 32, start 31, stop 2736\n",
      "Responses received: 15\n",
      "Iteration 1 complete\n",
      "Begin iteration 2\n",
      "Params: sleep_Seconds 22, start 69, stop 3084\n",
      "Responses received: 15\n",
      "Iteration 2 complete\n"
     ]
    }
   ],
   "source": [
    "import concurrent.futures\n",
    "import random\n",
    "from time import sleep\n",
    "\n",
    "CONCURRENCY = 5\n",
    "TOTAL_CALLS_PER_ITERATION = 15\n",
    "ITERATIONS = 3\n",
    "\n",
    "def invoke_mprime_application(start: int, stop: int) -> list[int]:\n",
    "    res = requests.get(app_url,\n",
    "                   json={\"start\":start, \"stop\": stop})\n",
    "    \n",
    "    return res.json()\n",
    "\n",
    "for i in range(ITERATIONS):\n",
    "    print(f\"Begin iteration {i}\")\n",
    "    sleep_seconds = random.randint(1,60)\n",
    "    start = random.randint(3, 100)\n",
    "    stop = random.randint(240,4000)\n",
    "    \n",
    "    print(f\"Params: sleep_Seconds {sleep_seconds}, start {start}, stop {stop}\")\n",
    "    pool = concurrent.futures.ThreadPoolExecutor(max_workers=CONCURRENCY)\n",
    "    \n",
    "    futures = []\n",
    "    for _ in range(TOTAL_CALLS_PER_ITERATION):\n",
    "        futures.append(pool.submit(invoke_mprime_application, start, stop))\n",
    "        \n",
    "    response_count = 0\n",
    "    for f in futures:\n",
    "        res = f.result() # Blocks until result is returned\n",
    "        response_count += 1\n",
    "        \n",
    "    print(f\"Responses received: {response_count}\")\n",
    "    print(f\"Iteration {i} complete\")\n",
    "    sleep(sleep_seconds)"
   ]
  },
  {
   "cell_type": "markdown",
   "id": "5612dca4-37c5-45c8-a299-c6378bfde217",
   "metadata": {},
   "source": [
    "## Cleanup"
   ]
  },
  {
   "cell_type": "code",
   "execution_count": 39,
   "id": "91d4ec3a-6b65-4937-9ccc-0d46ee31252a",
   "metadata": {
    "tags": []
   },
   "outputs": [
    {
     "name": "stderr",
     "output_type": "stream",
     "text": [
      "INFO 2025-03-01 17:55:04,600 serve 2116265 -- Deleting app ['MersennePrimes']\n"
     ]
    }
   ],
   "source": [
    "from ray import serve\n",
    "\n",
    "serve.delete(\"MersennePrimes\")"
   ]
  },
  {
   "cell_type": "code",
   "execution_count": 40,
   "id": "a7032b4e-543e-4a32-8a7c-d3a895b6813f",
   "metadata": {
    "tags": []
   },
   "outputs": [],
   "source": [
    "ray.shutdown()"
   ]
  }
 ],
 "metadata": {
  "kernelspec": {
   "display_name": "Python 3.11 for Ray",
   "language": "python",
   "name": "ray-py311"
  },
  "language_info": {
   "codemirror_mode": {
    "name": "ipython",
    "version": 3
   },
   "file_extension": ".py",
   "mimetype": "text/x-python",
   "name": "python",
   "nbconvert_exporter": "python",
   "pygments_lexer": "ipython3",
   "version": "3.11.11"
  }
 },
 "nbformat": 4,
 "nbformat_minor": 5
}
