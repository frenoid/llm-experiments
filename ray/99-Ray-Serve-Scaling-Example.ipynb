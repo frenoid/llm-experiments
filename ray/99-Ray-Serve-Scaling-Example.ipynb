{
 "cells": [
  {
   "cell_type": "markdown",
   "id": "9c7b3c12-fd19-4c5a-a0d2-bf6c603b0202",
   "metadata": {},
   "source": [
    "# Autoscaling and concurrency in Ray Serve example\n",
    "This notebook explains\n",
    "1. How to expose a Python function as a Ray Serve API.\n",
    "2. What parameters are available to tweak the performance of the Ray Serve application\n",
    "3. How the Ray serve application scales when invoked concurrently"
   ]
  },
  {
   "cell_type": "code",
   "execution_count": 15,
   "id": "604f3a7c-5e41-4492-acc2-4e715369def4",
   "metadata": {
    "tags": []
   },
   "outputs": [],
   "source": [
    "RAY_SERVE_URL = \"http://ray-cluster-serve.mlnow.frenoid.com:30080\"\n",
    "ROUTE_PREFIX = \"/mprimes\""
   ]
  },
  {
   "cell_type": "code",
   "execution_count": 16,
   "id": "3915de9b-1dc0-437c-b79f-e978787f145d",
   "metadata": {
    "tags": []
   },
   "outputs": [
    {
     "name": "stderr",
     "output_type": "stream",
     "text": [
      "2025-03-24 11:13:51,956\tINFO worker.py:1514 -- Using address ray://192.168.3.201:30101 set in the environment variable RAY_ADDRESS\n",
      "2025-03-24 11:13:51,957\tINFO client_builder.py:244 -- Passing the following kwargs to ray.init() on the server: log_to_driver\n"
     ]
    },
    {
     "ename": "RuntimeError",
     "evalue": "Ray Client is already connected. Maybe you called ray.init(\"ray://<address>\") twice by accident?",
     "output_type": "error",
     "traceback": [
      "\u001b[0;31m---------------------------------------------------------------------------\u001b[0m",
      "\u001b[0;31mRuntimeError\u001b[0m                              Traceback (most recent call last)",
      "Cell \u001b[0;32mIn[16], line 6\u001b[0m\n\u001b[1;32m      2\u001b[0m \u001b[38;5;28;01mimport\u001b[39;00m \u001b[38;5;21;01mos\u001b[39;00m\n\u001b[1;32m      4\u001b[0m os\u001b[38;5;241m.\u001b[39menviron[\u001b[38;5;124m\"\u001b[39m\u001b[38;5;124mRAY_ADDRESS\u001b[39m\u001b[38;5;124m\"\u001b[39m] \u001b[38;5;241m=\u001b[39m \u001b[38;5;124m\"\u001b[39m\u001b[38;5;124mray://192.168.3.201:30101\u001b[39m\u001b[38;5;124m\"\u001b[39m\n\u001b[0;32m----> 6\u001b[0m ray\u001b[38;5;241m.\u001b[39minit()\n",
      "File \u001b[0;32m~/.local/lib/python3.11/site-packages/ray/_private/client_mode_hook.py:103\u001b[0m, in \u001b[0;36mclient_mode_hook.<locals>.wrapper\u001b[0;34m(*args, **kwargs)\u001b[0m\n\u001b[1;32m    101\u001b[0m     \u001b[38;5;28;01mif\u001b[39;00m func\u001b[38;5;241m.\u001b[39m\u001b[38;5;18m__name__\u001b[39m \u001b[38;5;241m!=\u001b[39m \u001b[38;5;124m\"\u001b[39m\u001b[38;5;124minit\u001b[39m\u001b[38;5;124m\"\u001b[39m \u001b[38;5;129;01mor\u001b[39;00m is_client_mode_enabled_by_default:\n\u001b[1;32m    102\u001b[0m         \u001b[38;5;28;01mreturn\u001b[39;00m \u001b[38;5;28mgetattr\u001b[39m(ray, func\u001b[38;5;241m.\u001b[39m\u001b[38;5;18m__name__\u001b[39m)(\u001b[38;5;241m*\u001b[39margs, \u001b[38;5;241m*\u001b[39m\u001b[38;5;241m*\u001b[39mkwargs)\n\u001b[0;32m--> 103\u001b[0m \u001b[38;5;28;01mreturn\u001b[39;00m func(\u001b[38;5;241m*\u001b[39margs, \u001b[38;5;241m*\u001b[39m\u001b[38;5;241m*\u001b[39mkwargs)\n",
      "File \u001b[0;32m~/.local/lib/python3.11/site-packages/ray/_private/worker.py:1539\u001b[0m, in \u001b[0;36minit\u001b[0;34m(address, num_cpus, num_gpus, resources, labels, object_store_memory, local_mode, ignore_reinit_error, include_dashboard, dashboard_host, dashboard_port, job_config, configure_logging, logging_level, logging_format, logging_config, log_to_driver, namespace, runtime_env, storage, **kwargs)\u001b[0m\n\u001b[1;32m   1537\u001b[0m passed_kwargs\u001b[38;5;241m.\u001b[39mupdate(kwargs)\n\u001b[1;32m   1538\u001b[0m builder\u001b[38;5;241m.\u001b[39m_init_args(\u001b[38;5;241m*\u001b[39m\u001b[38;5;241m*\u001b[39mpassed_kwargs)\n\u001b[0;32m-> 1539\u001b[0m ctx \u001b[38;5;241m=\u001b[39m builder\u001b[38;5;241m.\u001b[39mconnect()\n\u001b[1;32m   1540\u001b[0m \u001b[38;5;28;01mfrom\u001b[39;00m \u001b[38;5;21;01mray\u001b[39;00m\u001b[38;5;21;01m.\u001b[39;00m\u001b[38;5;21;01m_private\u001b[39;00m\u001b[38;5;21;01m.\u001b[39;00m\u001b[38;5;21;01musage\u001b[39;00m \u001b[38;5;28;01mimport\u001b[39;00m usage_lib\n\u001b[1;32m   1542\u001b[0m \u001b[38;5;28;01mif\u001b[39;00m passed_kwargs\u001b[38;5;241m.\u001b[39mget(\u001b[38;5;124m\"\u001b[39m\u001b[38;5;124mallow_multiple\u001b[39m\u001b[38;5;124m\"\u001b[39m) \u001b[38;5;129;01mis\u001b[39;00m \u001b[38;5;28;01mTrue\u001b[39;00m:\n",
      "File \u001b[0;32m~/.local/lib/python3.11/site-packages/ray/client_builder.py:175\u001b[0m, in \u001b[0;36mClientBuilder.connect\u001b[0;34m(self)\u001b[0m\n\u001b[1;32m    172\u001b[0m \u001b[38;5;28;01mif\u001b[39;00m \u001b[38;5;28mself\u001b[39m\u001b[38;5;241m.\u001b[39m_allow_multiple_connections:\n\u001b[1;32m    173\u001b[0m     old_ray_cxt \u001b[38;5;241m=\u001b[39m ray\u001b[38;5;241m.\u001b[39mutil\u001b[38;5;241m.\u001b[39mclient\u001b[38;5;241m.\u001b[39mray\u001b[38;5;241m.\u001b[39mset_context(\u001b[38;5;28;01mNone\u001b[39;00m)\n\u001b[0;32m--> 175\u001b[0m client_info_dict \u001b[38;5;241m=\u001b[39m ray\u001b[38;5;241m.\u001b[39mutil\u001b[38;5;241m.\u001b[39mclient_connect\u001b[38;5;241m.\u001b[39mconnect(\n\u001b[1;32m    176\u001b[0m     \u001b[38;5;28mself\u001b[39m\u001b[38;5;241m.\u001b[39maddress,\n\u001b[1;32m    177\u001b[0m     job_config\u001b[38;5;241m=\u001b[39m\u001b[38;5;28mself\u001b[39m\u001b[38;5;241m.\u001b[39m_job_config,\n\u001b[1;32m    178\u001b[0m     _credentials\u001b[38;5;241m=\u001b[39m\u001b[38;5;28mself\u001b[39m\u001b[38;5;241m.\u001b[39m_credentials,\n\u001b[1;32m    179\u001b[0m     ray_init_kwargs\u001b[38;5;241m=\u001b[39m\u001b[38;5;28mself\u001b[39m\u001b[38;5;241m.\u001b[39m_remote_init_kwargs,\n\u001b[1;32m    180\u001b[0m     metadata\u001b[38;5;241m=\u001b[39m\u001b[38;5;28mself\u001b[39m\u001b[38;5;241m.\u001b[39m_metadata,\n\u001b[1;32m    181\u001b[0m )\n\u001b[1;32m    183\u001b[0m dashboard_url \u001b[38;5;241m=\u001b[39m ray\u001b[38;5;241m.\u001b[39mutil\u001b[38;5;241m.\u001b[39mclient\u001b[38;5;241m.\u001b[39mray\u001b[38;5;241m.\u001b[39m_get_dashboard_url()\n\u001b[1;32m    185\u001b[0m cxt \u001b[38;5;241m=\u001b[39m ClientContext(\n\u001b[1;32m    186\u001b[0m     dashboard_url\u001b[38;5;241m=\u001b[39mdashboard_url,\n\u001b[1;32m    187\u001b[0m     python_version\u001b[38;5;241m=\u001b[39mclient_info_dict[\u001b[38;5;124m\"\u001b[39m\u001b[38;5;124mpython_version\u001b[39m\u001b[38;5;124m\"\u001b[39m],\n\u001b[0;32m   (...)\u001b[0m\n\u001b[1;32m    191\u001b[0m     _context_to_restore\u001b[38;5;241m=\u001b[39mray\u001b[38;5;241m.\u001b[39mutil\u001b[38;5;241m.\u001b[39mclient\u001b[38;5;241m.\u001b[39mray\u001b[38;5;241m.\u001b[39mget_context(),\n\u001b[1;32m    192\u001b[0m )\n",
      "File \u001b[0;32m~/.local/lib/python3.11/site-packages/ray/util/client_connect.py:42\u001b[0m, in \u001b[0;36mconnect\u001b[0;34m(conn_str, secure, metadata, connection_retries, job_config, namespace, ignore_version, _credentials, ray_init_kwargs)\u001b[0m\n\u001b[1;32m     37\u001b[0m         logger\u001b[38;5;241m.\u001b[39minfo(\n\u001b[1;32m     38\u001b[0m             \u001b[38;5;124m\"\u001b[39m\u001b[38;5;124mCalling ray.init() again after it has already been called. \u001b[39m\u001b[38;5;124m\"\u001b[39m\n\u001b[1;32m     39\u001b[0m             \u001b[38;5;124m\"\u001b[39m\u001b[38;5;124mReusing the existing Ray client connection.\u001b[39m\u001b[38;5;124m\"\u001b[39m\n\u001b[1;32m     40\u001b[0m         )\n\u001b[1;32m     41\u001b[0m         \u001b[38;5;28;01mreturn\u001b[39;00m ray\u001b[38;5;241m.\u001b[39mget_context()\u001b[38;5;241m.\u001b[39mclient_worker\u001b[38;5;241m.\u001b[39mconnection_info()\n\u001b[0;32m---> 42\u001b[0m     \u001b[38;5;28;01mraise\u001b[39;00m \u001b[38;5;167;01mRuntimeError\u001b[39;00m(\n\u001b[1;32m     43\u001b[0m         \u001b[38;5;124m\"\u001b[39m\u001b[38;5;124mRay Client is already connected. Maybe you called \u001b[39m\u001b[38;5;124m\"\u001b[39m\n\u001b[1;32m     44\u001b[0m         \u001b[38;5;124m'\u001b[39m\u001b[38;5;124mray.init(\u001b[39m\u001b[38;5;124m\"\u001b[39m\u001b[38;5;124mray://<address>\u001b[39m\u001b[38;5;124m\"\u001b[39m\u001b[38;5;124m) twice by accident?\u001b[39m\u001b[38;5;124m'\u001b[39m\n\u001b[1;32m     45\u001b[0m     )\n\u001b[1;32m     47\u001b[0m \u001b[38;5;66;03m# Enable the same hooks that RAY_CLIENT_MODE does, as calling\u001b[39;00m\n\u001b[1;32m     48\u001b[0m \u001b[38;5;66;03m# ray.init(\"ray://<address>\") is specifically for using client mode.\u001b[39;00m\n\u001b[1;32m     49\u001b[0m _set_client_hook_status(\u001b[38;5;28;01mTrue\u001b[39;00m)\n",
      "\u001b[0;31mRuntimeError\u001b[0m: Ray Client is already connected. Maybe you called ray.init(\"ray://<address>\") twice by accident?"
     ]
    }
   ],
   "source": [
    "import ray\n",
    "import os\n",
    "\n",
    "os.environ[\"RAY_ADDRESS\"] = \"ray://192.168.3.201:30101\"\n",
    "\n",
    "ray.init()"
   ]
  },
  {
   "cell_type": "markdown",
   "id": "69fa4687-7186-416d-9cc7-10903dde8ef9",
   "metadata": {},
   "source": [
    "## Mersenne Primes calculation function"
   ]
  },
  {
   "cell_type": "code",
   "execution_count": 3,
   "id": "8ce7f955-cd65-4684-a05b-95c1f4b9ed73",
   "metadata": {
    "tags": []
   },
   "outputs": [],
   "source": [
    "@ray.remote\n",
    "def generate_mersenne_primes(start, end):\n",
    "    m_primes = []\n",
    "    def lucas_lehmer(p):\n",
    "        s = 4\n",
    "        m = 2 ** p - 1\n",
    "        for _ in range(p - 2):\n",
    "            s = ((s * s) - 2) % m\n",
    "        return s == 0\n",
    "\n",
    "    def is_prime(number):\n",
    "        \"\"\"\n",
    "        the efficiency of this doesn't matter much as we're\n",
    "        only using it to test the primeness of the exponents\n",
    "        not the mersenne primes themselves\n",
    "        \"\"\"\n",
    "\n",
    "        if number % 2 == 0:\n",
    "            return number == 2\n",
    "\n",
    "        i = 3\n",
    "        while i * i <= number:\n",
    "            if number % i == 0:\n",
    "                return False\n",
    "            i += 2\n",
    "\n",
    "        return True\n",
    "    \n",
    "    for i in range(start, end, 2):  # generate up to M20, found in 1961\n",
    "        if is_prime(i) and lucas_lehmer(i):\n",
    "            m_primes.append(2 ** i - 1)\n",
    "    \n",
    "    return m_primes"
   ]
  },
  {
   "cell_type": "code",
   "execution_count": 4,
   "id": "94e949b4-77fa-49be-97ec-a9f090d451be",
   "metadata": {
    "tags": []
   },
   "outputs": [
    {
     "data": {
      "text/plain": [
       "[7,\n",
       " 31,\n",
       " 127,\n",
       " 8191,\n",
       " 131071,\n",
       " 524287,\n",
       " 2147483647,\n",
       " 2305843009213693951,\n",
       " 618970019642690137449562111,\n",
       " 162259276829213363391578010288127,\n",
       " 170141183460469231731687303715884105727]"
      ]
     },
     "execution_count": 4,
     "metadata": {},
     "output_type": "execute_result"
    }
   ],
   "source": [
    "ref = generate_mersenne_primes.remote(1, 500)\n",
    "ray.get(ref)"
   ]
  },
  {
   "cell_type": "markdown",
   "id": "25576b7b-8366-46d8-a5d2-a1fc37084692",
   "metadata": {},
   "source": [
    "### Calling the function concurrently\n",
    "You can do so using ray.remote and the futures package"
   ]
  },
  {
   "cell_type": "code",
   "execution_count": 5,
   "id": "e3738157-3127-427d-8f7c-a2ddf5e12853",
   "metadata": {
    "tags": []
   },
   "outputs": [
    {
     "name": "stdout",
     "output_type": "stream",
     "text": [
      "responses: 1\n",
      "responses: 2\n",
      "responses: 3\n",
      "responses: 4\n",
      "responses: 5\n",
      "responses: 6\n",
      "responses: 7\n",
      "responses: 8\n",
      "responses: 9\n",
      "responses: 10\n",
      "responses: 11\n",
      "responses: 12\n",
      "responses: 13\n",
      "responses: 14\n",
      "responses: 15\n",
      "responses: 16\n",
      "responses: 17\n",
      "responses: 18\n",
      "responses: 19\n",
      "responses: 20\n",
      "responses: 21\n",
      "responses: 22\n",
      "responses: 23\n",
      "responses: 24\n",
      "responses: 25\n",
      "responses: 26\n",
      "responses: 27\n",
      "responses: 28\n",
      "responses: 29\n",
      "responses: 30\n"
     ]
    }
   ],
   "source": [
    "import concurrent.futures\n",
    "\n",
    "CONCURRENCY = 3\n",
    "TOTAL_CALLS = 30\n",
    "\n",
    "START = 1\n",
    "STOP = 1000\n",
    "\n",
    "def call_mprime(start: int, stop: int) -> list[int]:\n",
    "    ref = generate_mersenne_primes.remote(start, stop)\n",
    "    return ray.get(ref)\n",
    "\n",
    "pool = concurrent.futures.ThreadPoolExecutor(max_workers=CONCURRENCY)\n",
    "\n",
    "futures = []\n",
    "for i in range(TOTAL_CALLS):\n",
    "    futures.append(pool.submit(call_mprime, START, STOP))\n",
    "    \n",
    "responses, response_count = 0, 0\n",
    "for f in futures:\n",
    "    res = f.result()\n",
    "    response_count += 1\n",
    "    print(f\"responses: {response_count}\")\n",
    "    #print(res)"
   ]
  },
  {
   "cell_type": "markdown",
   "id": "5043ab5e-310e-49a2-a704-2ef51df10d63",
   "metadata": {},
   "source": [
    "## Deploying Mersenne Primes function Ray Serve application\n",
    "\n",
    "### First startup  Ray Serve"
   ]
  },
  {
   "cell_type": "code",
   "execution_count": 7,
   "id": "a9cc0cd2-b3c1-4bae-882d-aa5beb029e0f",
   "metadata": {
    "tags": []
   },
   "outputs": [],
   "source": [
    "! pip3 install --quiet ray[serve]==2.41.0"
   ]
  },
  {
   "cell_type": "code",
   "execution_count": 8,
   "id": "53e95abd-8d61-4d80-b7e1-62c104db5e4e",
   "metadata": {
    "tags": []
   },
   "outputs": [
    {
     "name": "stderr",
     "output_type": "stream",
     "text": [
      "\u001b[36m(ProxyActor pid=2889)\u001b[0m INFO 2025-03-23 11:48:48,571 proxy 10.244.1.204 -- Proxy starting on node c20f9bed881279fd0faa8c54869a977dd0d3a842e0169fd80ea68ffc (HTTP port: 8000).\n",
      "INFO 2025-03-23 18:48:48,633 serve 2523374 -- Started Serve in namespace \"serve\".\n",
      "\u001b[36m(ProxyActor pid=2889)\u001b[0m INFO 2025-03-23 11:48:48,626 proxy 10.244.1.204 -- Got updated endpoints: {}.\n"
     ]
    }
   ],
   "source": [
    "from ray import serve\n",
    "\n",
    "serve.start(http_options={\"location\": \"EveryNode\",\n",
    "                          \"host\": \"0.0.0.0\",\n",
    "                          \"port\": 8000,\n",
    "                          \"request_timeout_s\": 180.0})"
   ]
  },
  {
   "cell_type": "markdown",
   "id": "d66db8ba-5c7c-4589-bd0e-290787d53010",
   "metadata": {},
   "source": [
    "### Declare and deploy the Ray Serve application"
   ]
  },
  {
   "cell_type": "code",
   "execution_count": 39,
   "id": "9b383e82-b56c-4c6a-8a6e-aa70d5000b74",
   "metadata": {
    "tags": []
   },
   "outputs": [],
   "source": [
    "from ray import serve\n",
    "from ray.serve.handle import DeploymentHandle\n",
    "from starlette.requests import Request\n",
    "\n",
    "@serve.deployment(\n",
    "    ray_actor_options={\"num_cpus\": 1.0, \"num_gpus\": 0},\n",
    "    autoscaling_config={\n",
    "        \"target_num_ongoing_requests_per_replica\": 2,\n",
    "        \"min_replicas\": 1,\n",
    "        \"initial_replicas\": 1,\n",
    "        \"max_replicas\": 5\n",
    "    },\n",
    ")\n",
    "class MersennePrimes:\n",
    "    def __init__(self):\n",
    "        print(\"MersennePrimes is ready to serve\")\n",
    "    \n",
    "    def generate_mersenne_primes(self, start, end) -> list[int]:    \n",
    "        def lucas_lehmer(p):\n",
    "            s = 4\n",
    "            m = 2 ** p - 1\n",
    "            for _ in range(p - 2):\n",
    "                s = ((s * s) - 2) % m\n",
    "            return s == 0\n",
    "\n",
    "        def is_prime(number):\n",
    "            \"\"\"\n",
    "            the efficiency of this doesn't matter much as we're\n",
    "            only using it to test the primeness of the exponents\n",
    "            not the mersenne primes themselves\n",
    "            \"\"\"\n",
    "\n",
    "            if number % 2 == 0:\n",
    "                return number == 2\n",
    "\n",
    "            i = 3\n",
    "            while i * i <= number:\n",
    "                if number % i == 0:\n",
    "                    return False\n",
    "                i += 2\n",
    "\n",
    "            return True\n",
    "        \n",
    "        m_primes = []\n",
    "        for i in range(start, end, 2):  # generate up to M20, found in 1961\n",
    "            if is_prime(i) and lucas_lehmer(i):\n",
    "                m_primes.append(2 ** i - 1)\n",
    "\n",
    "        return m_primes\n",
    "\n",
    "    async def __call__(self, request: Request) -> list[str]:\n",
    "        start = int((await request.json())[\"start\"])\n",
    "        stop = int((await request.json())[\"stop\"])\n",
    "        print(f\"MersennePrimes called with {start} {stop}\")\n",
    "        m_primes = self.generate_mersenne_primes(start, stop)\n",
    "        \n",
    "        return m_primes"
   ]
  },
  {
   "cell_type": "code",
   "execution_count": 40,
   "id": "757668ed-ce02-4910-a624-056869c017af",
   "metadata": {
    "tags": []
   },
   "outputs": [
    {
     "name": "stderr",
     "output_type": "stream",
     "text": [
      "INFO 2025-03-24 11:41:34,239 serve 2523374 -- Connecting to existing Serve app in namespace \"serve\". New http options will not be applied.\n",
      "WARNING 2025-03-24 11:41:34,240 serve 2523374 -- The new client HTTP config differs from the existing one in the following fields: ['host', 'request_timeout_s']. The new HTTP config is ignored.\n",
      "\u001b[36m(ServeController pid=2823)\u001b[0m INFO 2025-03-24 04:41:34,267 controller 2823 -- Deploying new version of Deployment(name='MersennePrimes', app='MersennePrimes') (initial target replicas: 1).\n",
      "\u001b[36m(ServeController pid=2823)\u001b[0m INFO 2025-03-24 04:41:34,370 controller 2823 -- Stopping 1 replicas of Deployment(name='MersennePrimes', app='MersennePrimes') with outdated versions.\n",
      "\u001b[36m(ServeController pid=2823)\u001b[0m INFO 2025-03-24 04:41:34,370 controller 2823 -- Adding 1 replica to Deployment(name='MersennePrimes', app='MersennePrimes').\n"
     ]
    },
    {
     "name": "stdout",
     "output_type": "stream",
     "text": [
      "\u001b[36m(ServeReplica:MersennePrimes:MersennePrimes pid=200871, ip=10.244.1.193)\u001b[0m MersennePrimes is ready to serve\n"
     ]
    },
    {
     "name": "stderr",
     "output_type": "stream",
     "text": [
      "\u001b[36m(ProxyActor pid=200934, ip=10.244.1.193)\u001b[0m INFO 2025-03-24 04:41:35,587 proxy 10.244.1.193 -- Proxy starting on node ec025697127fbd672fccfe1fcfb5634113b006fc19220d743db28da8 (HTTP port: 8000).\n",
      "\u001b[36m(ProxyActor pid=200934, ip=10.244.1.193)\u001b[0m INFO 2025-03-24 04:41:35,634 proxy 10.244.1.193 -- Got updated endpoints: {Deployment(name='MersennePrimes', app='MersennePrimes'): EndpointInfo(route='/mprimes', app_is_cross_language=False)}.\n",
      "\u001b[36m(ServeController pid=2823)\u001b[0m INFO 2025-03-24 04:41:36,429 controller 2823 -- Replica(id='kcvfskrl', deployment='MersennePrimes', app='MersennePrimes') is stopped.\n",
      "INFO 2025-03-24 11:41:37,259 serve 2523374 -- Application 'MersennePrimes' is ready at http://0.0.0.0:8000/mprimes.\n",
      "INFO 2025-03-24 11:41:37,260 serve 2523374 -- Deployed app 'MersennePrimes' successfully.\n"
     ]
    }
   ],
   "source": [
    "app = MersennePrimes.bind()\n",
    "handle: DeploymentHandle = serve.run(app, name=\"MersennePrimes\", route_prefix=ROUTE_PREFIX)"
   ]
  },
  {
   "cell_type": "markdown",
   "id": "e8e1a9a1-811f-4778-82f1-df0bc9fb7599",
   "metadata": {},
   "source": [
    "### Declare and deploy the Ray Serve application"
   ]
  },
  {
   "cell_type": "code",
   "execution_count": 41,
   "id": "b234bbe9-d31b-406b-a50c-0a65cd41be08",
   "metadata": {
    "tags": []
   },
   "outputs": [
    {
     "name": "stdout",
     "output_type": "stream",
     "text": [
      "http://ray-cluster-serve.mlnow.frenoid.com:30080/mprimes\n"
     ]
    }
   ],
   "source": [
    "app_url = f\"{RAY_SERVE_URL}{ROUTE_PREFIX}\"\n",
    "\n",
    "print(app_url)"
   ]
  },
  {
   "cell_type": "code",
   "execution_count": 42,
   "id": "0e32a85d-2cd6-4190-87b0-f0335c28e0fa",
   "metadata": {
    "tags": []
   },
   "outputs": [
    {
     "data": {
      "text/plain": [
       "<Response [200]>"
      ]
     },
     "execution_count": 42,
     "metadata": {},
     "output_type": "execute_result"
    },
    {
     "name": "stdout",
     "output_type": "stream",
     "text": [
      "\u001b[36m(ServeReplica:MersennePrimes:MersennePrimes pid=200871, ip=10.244.1.193)\u001b[0m MersennePrimes called with 3 1000\n"
     ]
    },
    {
     "name": "stderr",
     "output_type": "stream",
     "text": [
      "\u001b[36m(ServeReplica:MersennePrimes:MersennePrimes pid=200871, ip=10.244.1.193)\u001b[0m INFO 2025-03-24 04:41:41,006 MersennePrimes_MersennePrimes qnytibs0 6c88025696ef45175c781a85bb63b64a -- GET /mprimes 200 65.5ms\n"
     ]
    }
   ],
   "source": [
    "import requests\n",
    "\n",
    "start = 3\n",
    "stop = 1000\n",
    "\n",
    "res = requests.get(app_url,\n",
    "                   json={\"start\":start, \"stop\": stop})\n",
    "res"
   ]
  },
  {
   "cell_type": "code",
   "execution_count": 43,
   "id": "faee59a9-d05c-468e-b490-b1c5bc7d1da8",
   "metadata": {
    "tags": []
   },
   "outputs": [
    {
     "data": {
      "text/plain": [
       "[7,\n",
       " 31,\n",
       " 127,\n",
       " 8191,\n",
       " 131071,\n",
       " 524287,\n",
       " 2147483647,\n",
       " 2305843009213693951,\n",
       " 618970019642690137449562111,\n",
       " 162259276829213363391578010288127,\n",
       " 170141183460469231731687303715884105727,\n",
       " 6864797660130609714981900799081393217269435300143305409394463459185543183397656052122559640661454554977296311391480858037121987999716643812574028291115057151,\n",
       " 531137992816767098689588206552468627329593117727031923199444138200403559860852242739162502265229285668889329486246501015346579337652707239409519978766587351943831270835393219031728127]"
      ]
     },
     "execution_count": 43,
     "metadata": {},
     "output_type": "execute_result"
    }
   ],
   "source": [
    "res.json()"
   ]
  },
  {
   "cell_type": "markdown",
   "id": "5be5f8f8-f60f-43c4-9106-ddd260a3f4c0",
   "metadata": {},
   "source": [
    "### Call the Ray Serve application concurrently\n",
    "\n",
    "Observe the replica scaling"
   ]
  },
  {
   "cell_type": "code",
   "execution_count": 46,
   "id": "863d74e6-7670-421b-9bcd-e5ac2f107075",
   "metadata": {
    "tags": []
   },
   "outputs": [],
   "source": [
    "import concurrent.futures\n",
    "import random\n",
    "from time import sleep\n",
    "\n",
    "CONCURRENCY = 5\n",
    "TOTAL_CALLS_PER_ITERATION = 15\n",
    "ITERATIONS = 200_000_000\n",
    "PROBABILTY_OF_BAD_REQUEST=0.05\n",
    "\n",
    "def invoke_mprime_application(start: int, stop: int) -> list[int]:\n",
    "    res = requests.get(app_url,\n",
    "                   json={\"start\":start, \"stop\": stop})\n",
    "    \n",
    "    return res.json()\n",
    "\n",
    "def bad_request():\n",
    "    try:\n",
    "      print(\"BAD REQUEST\")\n",
    "      res = request.get(app_url, json={\"start\": \"start\", \"stop\": \"stop\"})\n",
    "      res.json()\n",
    "    except Exception:\n",
    "        pass\n",
    "    \n",
    "    return"
   ]
  },
  {
   "cell_type": "code",
   "execution_count": 47,
   "id": "c38622f2-5d72-400c-bcc7-0221aa0e6e52",
   "metadata": {
    "tags": []
   },
   "outputs": [
    {
     "name": "stdout",
     "output_type": "stream",
     "text": [
      "BAD REQUEST\n"
     ]
    }
   ],
   "source": [
    "bad_request()"
   ]
  },
  {
   "cell_type": "code",
   "execution_count": null,
   "id": "9462bf83-1c0f-4ed3-b098-11fa16022022",
   "metadata": {
    "tags": []
   },
   "outputs": [
    {
     "name": "stdout",
     "output_type": "stream",
     "text": [
      "Begin iteration 0\n",
      "Params: sleep_Seconds 2, start 52, stop 2494\n",
      "BAD REQUEST\n",
      "BAD REQUEST\n",
      "BAD REQUEST\n",
      "Responses received: 15\n",
      "Iteration 0 complete\n",
      "\u001b[36m(ServeReplica:MersennePrimes:MersennePrimes pid=200871, ip=10.244.1.193)\u001b[0m MersennePrimes called with 52 2494\n",
      "\u001b[36m(ServeReplica:MersennePrimes:MersennePrimes pid=200871, ip=10.244.1.193)\u001b[0m MersennePrimes called with 52 2494\n",
      "\u001b[36m(ServeReplica:MersennePrimes:MersennePrimes pid=200871, ip=10.244.1.193)\u001b[0m MersennePrimes called with 52 2494\n",
      "\u001b[36m(ServeReplica:MersennePrimes:MersennePrimes pid=200871, ip=10.244.1.193)\u001b[0m MersennePrimes called with 52 2494\n",
      "\u001b[36m(ServeReplica:MersennePrimes:MersennePrimes pid=200871, ip=10.244.1.193)\u001b[0m MersennePrimes called with 52 2494\n",
      "\u001b[36m(ServeReplica:MersennePrimes:MersennePrimes pid=200871, ip=10.244.1.193)\u001b[0m MersennePrimes called with 52 2494\n",
      "\u001b[36m(ServeReplica:MersennePrimes:MersennePrimes pid=200871, ip=10.244.1.193)\u001b[0m MersennePrimes called with 52 2494\n",
      "\u001b[36m(ServeReplica:MersennePrimes:MersennePrimes pid=200871, ip=10.244.1.193)\u001b[0m MersennePrimes called with 52 2494\n",
      "\u001b[36m(ServeReplica:MersennePrimes:MersennePrimes pid=200871, ip=10.244.1.193)\u001b[0m MersennePrimes called with 52 2494\n",
      "\u001b[36m(ServeReplica:MersennePrimes:MersennePrimes pid=200871, ip=10.244.1.193)\u001b[0m MersennePrimes called with 52 2494\n",
      "\u001b[36m(ServeReplica:MersennePrimes:MersennePrimes pid=200871, ip=10.244.1.193)\u001b[0m MersennePrimes called with 52 2494\n",
      "\u001b[36m(ServeReplica:MersennePrimes:MersennePrimes pid=200871, ip=10.244.1.193)\u001b[0m MersennePrimes called with 52 2494\n",
      "\u001b[36m(ServeReplica:MersennePrimes:MersennePrimes pid=200871, ip=10.244.1.193)\u001b[0m MersennePrimes called with 52 2494\n",
      "\u001b[36m(ServeReplica:MersennePrimes:MersennePrimes pid=200871, ip=10.244.1.193)\u001b[0m MersennePrimes called with 52 2494\n",
      "\u001b[36m(ServeReplica:MersennePrimes:MersennePrimes pid=200871, ip=10.244.1.193)\u001b[0m MersennePrimes called with 52 2494\n"
     ]
    },
    {
     "name": "stderr",
     "output_type": "stream",
     "text": [
      "\u001b[36m(ServeReplica:MersennePrimes:MersennePrimes pid=200871, ip=10.244.1.193)\u001b[0m INFO 2025-03-24 04:43:22,669 MersennePrimes_MersennePrimes qnytibs0 7f4a9a76344ae56dd9794686da78449a -- GET /mprimes 200 3.4ms\n",
      "\u001b[36m(ServeReplica:MersennePrimes:MersennePrimes pid=200871, ip=10.244.1.193)\u001b[0m INFO 2025-03-24 04:43:22,671 MersennePrimes_MersennePrimes qnytibs0 83b10716b90839c2006d67ece53da3c6 -- GET /mprimes 200 4.4ms\n",
      "\u001b[36m(ServeReplica:MersennePrimes:MersennePrimes pid=200871, ip=10.244.1.193)\u001b[0m INFO 2025-03-24 04:43:22,672 MersennePrimes_MersennePrimes qnytibs0 4715149b6a1184b56657bc8de0e0a604 -- GET /mprimes 200 4.3ms\n",
      "\u001b[36m(ServeReplica:MersennePrimes:MersennePrimes pid=200871, ip=10.244.1.193)\u001b[0m INFO 2025-03-24 04:43:22,672 MersennePrimes_MersennePrimes qnytibs0 483de2c311c7a07fe032b72ff79c17d4 -- GET /mprimes 200 3.9ms\n",
      "\u001b[36m(ServeReplica:MersennePrimes:MersennePrimes pid=200871, ip=10.244.1.193)\u001b[0m INFO 2025-03-24 04:43:22,672 MersennePrimes_MersennePrimes qnytibs0 b27a3269227a2797d3362c214d85f7e0 -- GET /mprimes 200 4.0ms\n",
      "\u001b[36m(ServeReplica:MersennePrimes:MersennePrimes pid=200871, ip=10.244.1.193)\u001b[0m INFO 2025-03-24 04:43:22,680 MersennePrimes_MersennePrimes qnytibs0 1a64ce2d2da6536c5c9388b79d50d1d1 -- GET /mprimes 200 5.3ms\n",
      "\u001b[36m(ServeReplica:MersennePrimes:MersennePrimes pid=200871, ip=10.244.1.193)\u001b[0m INFO 2025-03-24 04:43:22,681 MersennePrimes_MersennePrimes qnytibs0 4eba194a9f84ebc27698c13ba973ea7a -- GET /mprimes 200 5.5ms\n",
      "\u001b[36m(ServeReplica:MersennePrimes:MersennePrimes pid=200871, ip=10.244.1.193)\u001b[0m INFO 2025-03-24 04:43:22,681 MersennePrimes_MersennePrimes qnytibs0 96db139210a702cd4f46eeeec1ff45ef -- GET /mprimes 200 4.5ms\n",
      "\u001b[36m(ServeReplica:MersennePrimes:MersennePrimes pid=200871, ip=10.244.1.193)\u001b[0m INFO 2025-03-24 04:43:22,681 MersennePrimes_MersennePrimes qnytibs0 bf863ffe0ac34a66d1d0fc96202a1598 -- GET /mprimes 200 4.1ms\n",
      "\u001b[36m(ServeReplica:MersennePrimes:MersennePrimes pid=200871, ip=10.244.1.193)\u001b[0m INFO 2025-03-24 04:43:22,681 MersennePrimes_MersennePrimes qnytibs0 a692b2a51a29521243176a4bd0f7838d -- GET /mprimes 200 2.8ms\n",
      "\u001b[36m(ServeReplica:MersennePrimes:MersennePrimes pid=200871, ip=10.244.1.193)\u001b[0m INFO 2025-03-24 04:43:22,689 MersennePrimes_MersennePrimes qnytibs0 9de882f0a40eccfb4311a361c333c39d -- GET /mprimes 200 4.3ms\n",
      "\u001b[36m(ServeReplica:MersennePrimes:MersennePrimes pid=200871, ip=10.244.1.193)\u001b[0m INFO 2025-03-24 04:43:22,691 MersennePrimes_MersennePrimes qnytibs0 a36db0c619154cf06dddcc542b7ebfa1 -- GET /mprimes 200 5.0ms\n",
      "\u001b[36m(ServeReplica:MersennePrimes:MersennePrimes pid=200871, ip=10.244.1.193)\u001b[0m INFO 2025-03-24 04:43:22,691 MersennePrimes_MersennePrimes qnytibs0 fba305e2f220156736c9b263c30cf79b -- GET /mprimes 200 4.7ms\n",
      "\u001b[36m(ServeReplica:MersennePrimes:MersennePrimes pid=200871, ip=10.244.1.193)\u001b[0m INFO 2025-03-24 04:43:22,691 MersennePrimes_MersennePrimes qnytibs0 7fe17dc179b5f9bd5fe62882de75b779 -- GET /mprimes 200 4.4ms\n",
      "\u001b[36m(ServeReplica:MersennePrimes:MersennePrimes pid=200871, ip=10.244.1.193)\u001b[0m INFO 2025-03-24 04:43:22,692 MersennePrimes_MersennePrimes qnytibs0 16e0af28ed5d2926c6bed95974d9fa6e -- GET /mprimes 200 3.3ms\n"
     ]
    },
    {
     "name": "stdout",
     "output_type": "stream",
     "text": [
      "Begin iteration 1\n",
      "Params: sleep_Seconds 57, start 35, stop 1670\n",
      "\u001b[36m(ServeReplica:MersennePrimes:MersennePrimes pid=200871, ip=10.244.1.193)\u001b[0m MersennePrimes called with 35 1670\n",
      "\u001b[36m(ServeReplica:MersennePrimes:MersennePrimes pid=200871, ip=10.244.1.193)\u001b[0m MersennePrimes called with 35 1670\n"
     ]
    },
    {
     "name": "stderr",
     "output_type": "stream",
     "text": [
      "\u001b[36m(ServeReplica:MersennePrimes:MersennePrimes pid=200871, ip=10.244.1.193)\u001b[0m INFO 2025-03-24 04:43:25,104 MersennePrimes_MersennePrimes qnytibs0 bc35171281f5dc70b774a99eaa9b8212 -- GET /mprimes 200 404.5ms\n"
     ]
    },
    {
     "name": "stdout",
     "output_type": "stream",
     "text": [
      "\u001b[36m(ServeReplica:MersennePrimes:MersennePrimes pid=200871, ip=10.244.1.193)\u001b[0m MersennePrimes called with 35 1670\n"
     ]
    },
    {
     "name": "stderr",
     "output_type": "stream",
     "text": [
      "\u001b[36m(ServeReplica:MersennePrimes:MersennePrimes pid=200871, ip=10.244.1.193)\u001b[0m INFO 2025-03-24 04:43:25,502 MersennePrimes_MersennePrimes qnytibs0 964d1247033e7d8350c0dbad1f38567f -- GET /mprimes 200 801.8ms\n"
     ]
    },
    {
     "name": "stdout",
     "output_type": "stream",
     "text": [
      "BAD REQUEST\n",
      "\u001b[36m(ServeReplica:MersennePrimes:MersennePrimes pid=200871, ip=10.244.1.193)\u001b[0m MersennePrimes called with 35 1670\n",
      "\u001b[36m(ServeReplica:MersennePrimes:MersennePrimes pid=200871, ip=10.244.1.193)\u001b[0m MersennePrimes called with 35 1670\n"
     ]
    },
    {
     "name": "stderr",
     "output_type": "stream",
     "text": [
      "\u001b[36m(ServeReplica:MersennePrimes:MersennePrimes pid=200871, ip=10.244.1.193)\u001b[0m INFO 2025-03-24 04:43:26,304 MersennePrimes_MersennePrimes qnytibs0 9527cd1a30307e8d61f302fec22b174d -- GET /mprimes 200 1604.0ms\n",
      "\u001b[36m(ServeReplica:MersennePrimes:MersennePrimes pid=200871, ip=10.244.1.193)\u001b[0m INFO 2025-03-24 04:43:26,324 MersennePrimes_MersennePrimes qnytibs0 0390f88650325dd75b3c95d22decf502 -- GET /mprimes 200 1623.9ms\n"
     ]
    },
    {
     "name": "stdout",
     "output_type": "stream",
     "text": [
      "\u001b[36m(ServeReplica:MersennePrimes:MersennePrimes pid=200871, ip=10.244.1.193)\u001b[0m MersennePrimes called with 35 1670\n"
     ]
    },
    {
     "name": "stderr",
     "output_type": "stream",
     "text": [
      "\u001b[36m(ServeReplica:MersennePrimes:MersennePrimes pid=200871, ip=10.244.1.193)\u001b[0m INFO 2025-03-24 04:43:26,703 MersennePrimes_MersennePrimes qnytibs0 79c7206a3232713430a1d95048765c7c -- GET /mprimes 200 2001.8ms\n"
     ]
    },
    {
     "name": "stdout",
     "output_type": "stream",
     "text": [
      "\u001b[36m(ServeReplica:MersennePrimes:MersennePrimes pid=200871, ip=10.244.1.193)\u001b[0m MersennePrimes called with 35 1670\n"
     ]
    },
    {
     "name": "stderr",
     "output_type": "stream",
     "text": [
      "\u001b[36m(ServeReplica:MersennePrimes:MersennePrimes pid=200871, ip=10.244.1.193)\u001b[0m INFO 2025-03-24 04:43:27,107 MersennePrimes_MersennePrimes qnytibs0 c097149db3386be213af77aa0ce57aaa -- GET /mprimes 200 1889.5ms\n"
     ]
    },
    {
     "name": "stdout",
     "output_type": "stream",
     "text": [
      "\u001b[36m(ServeReplica:MersennePrimes:MersennePrimes pid=200871, ip=10.244.1.193)\u001b[0m MersennePrimes called with 35 1670\n",
      "\u001b[36m(ServeReplica:MersennePrimes:MersennePrimes pid=200871, ip=10.244.1.193)\u001b[0m MersennePrimes called with 35 1670\n",
      "\u001b[36m(ServeReplica:MersennePrimes:MersennePrimes pid=200871, ip=10.244.1.193)\u001b[0m MersennePrimes called with 35 1670\n"
     ]
    },
    {
     "name": "stderr",
     "output_type": "stream",
     "text": [
      "\u001b[36m(ServeReplica:MersennePrimes:MersennePrimes pid=200871, ip=10.244.1.193)\u001b[0m INFO 2025-03-24 04:43:28,327 MersennePrimes_MersennePrimes qnytibs0 e00341278ea612474bffe8825276d116 -- GET /mprimes 200 1839.6ms\n",
      "\u001b[36m(ServeReplica:MersennePrimes:MersennePrimes pid=200871, ip=10.244.1.193)\u001b[0m INFO 2025-03-24 04:43:28,328 MersennePrimes_MersennePrimes qnytibs0 2e800e2710a42d1698bfb9a010204828 -- GET /mprimes 200 2693.0ms\n",
      "\u001b[36m(ServeReplica:MersennePrimes:MersennePrimes pid=200871, ip=10.244.1.193)\u001b[0m INFO 2025-03-24 04:43:28,334 MersennePrimes_MersennePrimes qnytibs0 25195baf913a4b8d4550ec8c0b8d6f87 -- GET /mprimes 200 1840.5ms\n"
     ]
    },
    {
     "name": "stdout",
     "output_type": "stream",
     "text": [
      "\u001b[36m(ServeReplica:MersennePrimes:MersennePrimes pid=200871, ip=10.244.1.193)\u001b[0m MersennePrimes called with 35 1670\n"
     ]
    },
    {
     "name": "stderr",
     "output_type": "stream",
     "text": [
      "\u001b[36m(ServeReplica:MersennePrimes:MersennePrimes pid=200871, ip=10.244.1.193)\u001b[0m INFO 2025-03-24 04:43:28,753 MersennePrimes_MersennePrimes qnytibs0 98910b8840d6f5ee0e723a9afcb9f746 -- GET /mprimes 200 1947.1ms\n"
     ]
    },
    {
     "name": "stdout",
     "output_type": "stream",
     "text": [
      "\u001b[36m(ServeReplica:MersennePrimes:MersennePrimes pid=200871, ip=10.244.1.193)\u001b[0m MersennePrimes called with 35 1670\n"
     ]
    },
    {
     "name": "stderr",
     "output_type": "stream",
     "text": [
      "\u001b[36m(ServeReplica:MersennePrimes:MersennePrimes pid=200871, ip=10.244.1.193)\u001b[0m INFO 2025-03-24 04:43:29,139 MersennePrimes_MersennePrimes qnytibs0 63a8ff837150531f3e7863501c010875 -- GET /mprimes 200 1878.9ms\n"
     ]
    },
    {
     "name": "stdout",
     "output_type": "stream",
     "text": [
      "BAD REQUEST\n",
      "\u001b[36m(ServeReplica:MersennePrimes:MersennePrimes pid=200871, ip=10.244.1.193)\u001b[0m MersennePrimes called with 35 1670\n"
     ]
    },
    {
     "name": "stderr",
     "output_type": "stream",
     "text": [
      "\u001b[36m(ServeReplica:MersennePrimes:MersennePrimes pid=200871, ip=10.244.1.193)\u001b[0m INFO 2025-03-24 04:43:29,584 MersennePrimes_MersennePrimes qnytibs0 5cd8ab9309e4a733a3c3c705a0192244 -- GET /mprimes 200 1157.8ms\n"
     ]
    },
    {
     "name": "stdout",
     "output_type": "stream",
     "text": [
      "\u001b[36m(ServeReplica:MersennePrimes:MersennePrimes pid=200871, ip=10.244.1.193)\u001b[0m MersennePrimes called with 35 1670\n",
      "\u001b[36m(ServeReplica:MersennePrimes:MersennePrimes pid=200871, ip=10.244.1.193)\u001b[0m MersennePrimes called with 35 1670\n",
      "Responses received: 15\n",
      "Iteration 1 complete\n"
     ]
    },
    {
     "name": "stderr",
     "output_type": "stream",
     "text": [
      "\u001b[36m(ServeReplica:MersennePrimes:MersennePrimes pid=200871, ip=10.244.1.193)\u001b[0m INFO 2025-03-24 04:43:30,764 MersennePrimes_MersennePrimes qnytibs0 c8af926fa9b4ee28a55b6c6b3bd3e36c -- GET /mprimes 200 2338.7ms\n",
      "\u001b[36m(ServeReplica:MersennePrimes:MersennePrimes pid=200871, ip=10.244.1.193)\u001b[0m INFO 2025-03-24 04:43:30,765 MersennePrimes_MersennePrimes qnytibs0 35f3fdc38c4bbf20298b9d30b6b14ebc -- GET /mprimes 200 1920.1ms\n",
      "\u001b[36m(ServeReplica:MersennePrimes:MersennePrimes pid=200871, ip=10.244.1.193)\u001b[0m INFO 2025-03-24 04:43:30,765 MersennePrimes_MersennePrimes qnytibs0 410c7a3402fc1e325e944441aec4c0cc -- GET /mprimes 200 1910.3ms\n"
     ]
    },
    {
     "name": "stdout",
     "output_type": "stream",
     "text": [
      "Begin iteration 2\n",
      "Params: sleep_Seconds 13, start 4, stop 2172\n",
      "\u001b[36m(ServeReplica:MersennePrimes:MersennePrimes pid=200871, ip=10.244.1.193)\u001b[0m MersennePrimes called with 4 2172\n",
      "\u001b[36m(ServeReplica:MersennePrimes:MersennePrimes pid=200871, ip=10.244.1.193)\u001b[0m MersennePrimes called with 4 2172\n",
      "\u001b[36m(ServeReplica:MersennePrimes:MersennePrimes pid=200871, ip=10.244.1.193)\u001b[0m MersennePrimes called with 4 2172\n",
      "\u001b[36m(ServeReplica:MersennePrimes:MersennePrimes pid=200871, ip=10.244.1.193)\u001b[0m MersennePrimes called with 4 2172\n",
      "\u001b[36m(ServeReplica:MersennePrimes:MersennePrimes pid=200871, ip=10.244.1.193)\u001b[0m MersennePrimes called with 4 2172\n",
      "BAD REQUEST\n",
      "Responses received: 15\n",
      "Iteration 2 complete\n",
      "\u001b[36m(ServeReplica:MersennePrimes:MersennePrimes pid=200871, ip=10.244.1.193)\u001b[0m MersennePrimes called with 4 2172\n",
      "\u001b[36m(ServeReplica:MersennePrimes:MersennePrimes pid=200871, ip=10.244.1.193)\u001b[0m MersennePrimes called with 4 2172\n",
      "\u001b[36m(ServeReplica:MersennePrimes:MersennePrimes pid=200871, ip=10.244.1.193)\u001b[0m MersennePrimes called with 4 2172\n",
      "\u001b[36m(ServeReplica:MersennePrimes:MersennePrimes pid=200871, ip=10.244.1.193)\u001b[0m MersennePrimes called with 4 2172\n",
      "\u001b[36m(ServeReplica:MersennePrimes:MersennePrimes pid=200871, ip=10.244.1.193)\u001b[0m MersennePrimes called with 4 2172\n",
      "\u001b[36m(ServeReplica:MersennePrimes:MersennePrimes pid=200871, ip=10.244.1.193)\u001b[0m MersennePrimes called with 4 2172\n",
      "\u001b[36m(ServeReplica:MersennePrimes:MersennePrimes pid=200871, ip=10.244.1.193)\u001b[0m MersennePrimes called with 4 2172\n",
      "\u001b[36m(ServeReplica:MersennePrimes:MersennePrimes pid=200871, ip=10.244.1.193)\u001b[0m MersennePrimes called with 4 2172\n",
      "\u001b[36m(ServeReplica:MersennePrimes:MersennePrimes pid=200871, ip=10.244.1.193)\u001b[0m MersennePrimes called with 4 2172\n",
      "\u001b[36m(ServeReplica:MersennePrimes:MersennePrimes pid=200871, ip=10.244.1.193)\u001b[0m MersennePrimes called with 4 2172\n"
     ]
    },
    {
     "name": "stderr",
     "output_type": "stream",
     "text": [
      "\u001b[36m(ServeReplica:MersennePrimes:MersennePrimes pid=200871, ip=10.244.1.193)\u001b[0m INFO 2025-03-24 04:44:27,777 MersennePrimes_MersennePrimes qnytibs0 e9dd47a083e9d81dfa1f52f65881b5e3 -- GET /mprimes 200 3.2ms\n",
      "\u001b[36m(ServeReplica:MersennePrimes:MersennePrimes pid=200871, ip=10.244.1.193)\u001b[0m INFO 2025-03-24 04:44:27,779 MersennePrimes_MersennePrimes qnytibs0 14340d6ea39d21349d491b56c8f416ce -- GET /mprimes 200 4.2ms\n",
      "\u001b[36m(ServeReplica:MersennePrimes:MersennePrimes pid=200871, ip=10.244.1.193)\u001b[0m INFO 2025-03-24 04:44:27,779 MersennePrimes_MersennePrimes qnytibs0 1d4ceb5078d1907d38003962ce2f7639 -- GET /mprimes 200 4.8ms\n",
      "\u001b[36m(ServeReplica:MersennePrimes:MersennePrimes pid=200871, ip=10.244.1.193)\u001b[0m INFO 2025-03-24 04:44:27,780 MersennePrimes_MersennePrimes qnytibs0 532b96d582622ec0d74923e4d58279b5 -- GET /mprimes 200 4.9ms\n",
      "\u001b[36m(ServeReplica:MersennePrimes:MersennePrimes pid=200871, ip=10.244.1.193)\u001b[0m INFO 2025-03-24 04:44:27,780 MersennePrimes_MersennePrimes qnytibs0 a7aea9492553997420513e231fd27904 -- GET /mprimes 200 4.9ms\n",
      "\u001b[36m(ServeReplica:MersennePrimes:MersennePrimes pid=200871, ip=10.244.1.193)\u001b[0m INFO 2025-03-24 04:44:27,786 MersennePrimes_MersennePrimes qnytibs0 60fd455bcc9dcb8e3a30f3e9959c2d4b -- GET /mprimes 200 3.1ms\n",
      "\u001b[36m(ServeReplica:MersennePrimes:MersennePrimes pid=200871, ip=10.244.1.193)\u001b[0m INFO 2025-03-24 04:44:27,787 MersennePrimes_MersennePrimes qnytibs0 033d8c8f6e22cd98101c9f90f3085800 -- GET /mprimes 200 3.8ms\n",
      "\u001b[36m(ServeReplica:MersennePrimes:MersennePrimes pid=200871, ip=10.244.1.193)\u001b[0m INFO 2025-03-24 04:44:27,787 MersennePrimes_MersennePrimes qnytibs0 4aac33d0090a2f51b31890bab0e568ef -- GET /mprimes 200 3.2ms\n",
      "\u001b[36m(ServeReplica:MersennePrimes:MersennePrimes pid=200871, ip=10.244.1.193)\u001b[0m INFO 2025-03-24 04:44:27,788 MersennePrimes_MersennePrimes qnytibs0 4e61237832e88fde8d843432f408c32a -- GET /mprimes 200 3.4ms\n",
      "\u001b[36m(ServeReplica:MersennePrimes:MersennePrimes pid=200871, ip=10.244.1.193)\u001b[0m INFO 2025-03-24 04:44:27,789 MersennePrimes_MersennePrimes qnytibs0 210bfa0964b26e84084e24ead6c9c517 -- GET /mprimes 200 3.8ms\n",
      "\u001b[36m(ServeReplica:MersennePrimes:MersennePrimes pid=200871, ip=10.244.1.193)\u001b[0m INFO 2025-03-24 04:44:27,793 MersennePrimes_MersennePrimes qnytibs0 b6eeff21a4d1ac5503b649ecaf27a95f -- GET /mprimes 200 1.7ms\n",
      "\u001b[36m(ServeReplica:MersennePrimes:MersennePrimes pid=200871, ip=10.244.1.193)\u001b[0m INFO 2025-03-24 04:44:27,797 MersennePrimes_MersennePrimes qnytibs0 6fde97ed1fba5afa73cb1548aad289a3 -- GET /mprimes 200 5.0ms\n",
      "\u001b[36m(ServeReplica:MersennePrimes:MersennePrimes pid=200871, ip=10.244.1.193)\u001b[0m INFO 2025-03-24 04:44:27,798 MersennePrimes_MersennePrimes qnytibs0 cda246ed8ec3f687e4ea87885a50fd83 -- GET /mprimes 200 5.3ms\n",
      "\u001b[36m(ServeReplica:MersennePrimes:MersennePrimes pid=200871, ip=10.244.1.193)\u001b[0m INFO 2025-03-24 04:44:27,798 MersennePrimes_MersennePrimes qnytibs0 fb4efc4edd8bda3f25bc3f62fbd1aa7b -- GET /mprimes 200 5.5ms\n",
      "\u001b[36m(ServeReplica:MersennePrimes:MersennePrimes pid=200871, ip=10.244.1.193)\u001b[0m INFO 2025-03-24 04:44:27,800 MersennePrimes_MersennePrimes qnytibs0 15c1cd091314e3689b9c00f5b1a90d82 -- GET /mprimes 200 2.3ms\n"
     ]
    },
    {
     "name": "stdout",
     "output_type": "stream",
     "text": [
      "Begin iteration 3\n",
      "Params: sleep_Seconds 57, start 61, stop 848\n",
      "\u001b[36m(ServeReplica:MersennePrimes:MersennePrimes pid=200871, ip=10.244.1.193)\u001b[0m MersennePrimes called with 61 848\n",
      "\u001b[36m(ServeReplica:MersennePrimes:MersennePrimes pid=200871, ip=10.244.1.193)\u001b[0m MersennePrimes called with 61 848\n",
      "\u001b[36m(ServeReplica:MersennePrimes:MersennePrimes pid=200871, ip=10.244.1.193)\u001b[0m MersennePrimes called with 61 848\n",
      "\u001b[36m(ServeReplica:MersennePrimes:MersennePrimes pid=200871, ip=10.244.1.193)\u001b[0m MersennePrimes called with 61 848\n",
      "\u001b[36m(ServeReplica:MersennePrimes:MersennePrimes pid=200871, ip=10.244.1.193)\u001b[0m MersennePrimes called with 61 848\n"
     ]
    },
    {
     "name": "stderr",
     "output_type": "stream",
     "text": [
      "\u001b[36m(ServeReplica:MersennePrimes:MersennePrimes pid=200871, ip=10.244.1.193)\u001b[0m INFO 2025-03-24 04:44:40,845 MersennePrimes_MersennePrimes qnytibs0 04a21be178d585ab61bda55f36c58013 -- GET /mprimes 200 38.8ms\n"
     ]
    },
    {
     "name": "stdout",
     "output_type": "stream",
     "text": [
      "\u001b[36m(ServeReplica:MersennePrimes:MersennePrimes pid=200871, ip=10.244.1.193)\u001b[0m MersennePrimes called with 61 848\n",
      "\u001b[36m(ServeReplica:MersennePrimes:MersennePrimes pid=200871, ip=10.244.1.193)\u001b[0m MersennePrimes called with 61 848\n",
      "\u001b[36m(ServeReplica:MersennePrimes:MersennePrimes pid=200871, ip=10.244.1.193)\u001b[0m MersennePrimes called with 61 848\n",
      "\u001b[36m(ServeReplica:MersennePrimes:MersennePrimes pid=200871, ip=10.244.1.193)\u001b[0m MersennePrimes called with 61 848\n",
      "\u001b[36m(ServeReplica:MersennePrimes:MersennePrimes pid=200871, ip=10.244.1.193)\u001b[0m MersennePrimes called with 61 848\n"
     ]
    },
    {
     "name": "stderr",
     "output_type": "stream",
     "text": [
      "\u001b[36m(ServeReplica:MersennePrimes:MersennePrimes pid=200871, ip=10.244.1.193)\u001b[0m INFO 2025-03-24 04:44:40,997 MersennePrimes_MersennePrimes qnytibs0 1e6205b1f8c8b031d3605ee35ddbbd30 -- GET /mprimes 200 190.2ms\n",
      "\u001b[36m(ServeReplica:MersennePrimes:MersennePrimes pid=200871, ip=10.244.1.193)\u001b[0m INFO 2025-03-24 04:44:40,998 MersennePrimes_MersennePrimes qnytibs0 b1ab2da1c5cbe777344c747d39d42598 -- GET /mprimes 200 190.8ms\n",
      "\u001b[36m(ServeReplica:MersennePrimes:MersennePrimes pid=200871, ip=10.244.1.193)\u001b[0m INFO 2025-03-24 04:44:40,998 MersennePrimes_MersennePrimes qnytibs0 3f1321d08e6d48b7ef2e7783374781bc -- GET /mprimes 200 190.8ms\n",
      "\u001b[36m(ServeReplica:MersennePrimes:MersennePrimes pid=200871, ip=10.244.1.193)\u001b[0m INFO 2025-03-24 04:44:40,998 MersennePrimes_MersennePrimes qnytibs0 7eda0d7b891a072c73e68c19d33f6ef5 -- GET /mprimes 200 190.9ms\n",
      "\u001b[36m(ServeReplica:MersennePrimes:MersennePrimes pid=200871, ip=10.244.1.193)\u001b[0m INFO 2025-03-24 04:44:41,042 MersennePrimes_MersennePrimes qnytibs0 032deb5803ba41d2d16bedfe122cc10e -- GET /mprimes 200 97.2ms\n",
      "\u001b[36m(ServeReplica:MersennePrimes:MersennePrimes pid=200871, ip=10.244.1.193)\u001b[0m INFO 2025-03-24 04:44:41,092 MersennePrimes_MersennePrimes qnytibs0 d2fbacf3dc0510904d04349415361c13 -- GET /mprimes 200 49.8ms\n",
      "\u001b[36m(ServeReplica:MersennePrimes:MersennePrimes pid=200871, ip=10.244.1.193)\u001b[0m INFO 2025-03-24 04:44:41,134 MersennePrimes_MersennePrimes qnytibs0 f0e34deafe7e73f6ff43eb6cd604babf -- GET /mprimes 200 91.6ms\n"
     ]
    },
    {
     "name": "stdout",
     "output_type": "stream",
     "text": [
      "\u001b[36m(ServeReplica:MersennePrimes:MersennePrimes pid=200871, ip=10.244.1.193)\u001b[0m MersennePrimes called with 61 848\n",
      "\u001b[36m(ServeReplica:MersennePrimes:MersennePrimes pid=200871, ip=10.244.1.193)\u001b[0m MersennePrimes called with 61 848\n",
      "\u001b[36m(ServeReplica:MersennePrimes:MersennePrimes pid=200871, ip=10.244.1.193)\u001b[0m MersennePrimes called with 61 848\n",
      "\u001b[36m(ServeReplica:MersennePrimes:MersennePrimes pid=200871, ip=10.244.1.193)\u001b[0m MersennePrimes called with 61 848\n",
      "\u001b[36m(ServeReplica:MersennePrimes:MersennePrimes pid=200871, ip=10.244.1.193)\u001b[0m MersennePrimes called with 61 848\n",
      "Responses received: 15\n",
      "Iteration 3 complete\n"
     ]
    },
    {
     "name": "stderr",
     "output_type": "stream",
     "text": [
      "\u001b[36m(ServeReplica:MersennePrimes:MersennePrimes pid=200871, ip=10.244.1.193)\u001b[0m INFO 2025-03-24 04:44:41,192 MersennePrimes_MersennePrimes qnytibs0 45b939064c39e15af3ce16fd46c9eda9 -- GET /mprimes 200 149.5ms\n",
      "\u001b[36m(ServeReplica:MersennePrimes:MersennePrimes pid=200871, ip=10.244.1.193)\u001b[0m INFO 2025-03-24 04:44:41,192 MersennePrimes_MersennePrimes qnytibs0 139b80cd7108cce124b4eb513406d6e7 -- GET /mprimes 200 148.3ms\n",
      "\u001b[36m(ServeReplica:MersennePrimes:MersennePrimes pid=200871, ip=10.244.1.193)\u001b[0m INFO 2025-03-24 04:44:41,234 MersennePrimes_MersennePrimes qnytibs0 da81d4e9fdd249399c022712a01b47a4 -- GET /mprimes 200 163.8ms\n",
      "\u001b[36m(ServeReplica:MersennePrimes:MersennePrimes pid=200871, ip=10.244.1.193)\u001b[0m INFO 2025-03-24 04:44:41,266 MersennePrimes_MersennePrimes qnytibs0 958786880322ec5383bee3a86caf36ab -- GET /mprimes 200 76.4ms\n",
      "\u001b[36m(ServeReplica:MersennePrimes:MersennePrimes pid=200871, ip=10.244.1.193)\u001b[0m INFO 2025-03-24 04:44:41,303 MersennePrimes_MersennePrimes qnytibs0 5cd228d813d687d6dc06f4ee29b22f8e -- GET /mprimes 200 112.0ms\n",
      "\u001b[36m(ServeReplica:MersennePrimes:MersennePrimes pid=200871, ip=10.244.1.193)\u001b[0m INFO 2025-03-24 04:44:41,355 MersennePrimes_MersennePrimes qnytibs0 7551fcf32ce7b3d9b7db32c730b1d3b6 -- GET /mprimes 200 89.3ms\n",
      "\u001b[36m(ServeReplica:MersennePrimes:MersennePrimes pid=200871, ip=10.244.1.193)\u001b[0m INFO 2025-03-24 04:44:41,376 MersennePrimes_MersennePrimes qnytibs0 ab1742a514a4ceb22169fa4ec32dd4bf -- GET /mprimes 200 109.9ms\n"
     ]
    },
    {
     "name": "stdout",
     "output_type": "stream",
     "text": [
      "Begin iteration 4\n",
      "Params: sleep_Seconds 1, start 55, stop 3241\n",
      "\u001b[36m(ServeReplica:MersennePrimes:MersennePrimes pid=200871, ip=10.244.1.193)\u001b[0m MersennePrimes called with 55 3241\n",
      "\u001b[36m(ServeReplica:MersennePrimes:MersennePrimes pid=200871, ip=10.244.1.193)\u001b[0m MersennePrimes called with 55 3241\n"
     ]
    },
    {
     "name": "stderr",
     "output_type": "stream",
     "text": [
      "\u001b[36m(ServeReplica:MersennePrimes:MersennePrimes pid=200871, ip=10.244.1.193)\u001b[0m INFO 2025-03-24 04:45:43,066 MersennePrimes_MersennePrimes qnytibs0 027c83a1586947c67cde7e28fa0a697d -- GET /mprimes 200 4450.8ms\n",
      "\u001b[36m(ProxyActor pid=2889)\u001b[0m WARNING 2025-03-24 04:45:43,155 proxy 10.244.1.204 27009788aa80e2afa025ff46aaa84c93 -- Failed to get queue length from Replica(id='qnytibs0', deployment='MersennePrimes', app='MersennePrimes') within 0.1s. If this happens repeatedly it's likely caused by high network latency in the cluster. You can configure the deadline using the `RAY_SERVE_QUEUE_LENGTH_RESPONSE_DEADLINE_S` environment variable.\n"
     ]
    },
    {
     "name": "stdout",
     "output_type": "stream",
     "text": [
      "\u001b[36m(ServeReplica:MersennePrimes:MersennePrimes pid=200871, ip=10.244.1.193)\u001b[0m MersennePrimes called with 55 3241\n"
     ]
    },
    {
     "name": "stderr",
     "output_type": "stream",
     "text": [
      "\u001b[36m(ServeReplica:MersennePrimes:MersennePrimes pid=200871, ip=10.244.1.193)\u001b[0m INFO 2025-03-24 04:45:47,478 MersennePrimes_MersennePrimes qnytibs0 3eba61e627ba7a17384f34b01eb2b1a9 -- GET /mprimes 200 8863.2ms\n"
     ]
    },
    {
     "name": "stdout",
     "output_type": "stream",
     "text": [
      "\u001b[36m(ServeReplica:MersennePrimes:MersennePrimes pid=200871, ip=10.244.1.193)\u001b[0m MersennePrimes called with 55 3241\n",
      "BAD REQUEST\n",
      "\u001b[36m(ServeReplica:MersennePrimes:MersennePrimes pid=200871, ip=10.244.1.193)\u001b[0m MersennePrimes called with 55 3241\n",
      "\u001b[36m(ServeReplica:MersennePrimes:MersennePrimes pid=200871, ip=10.244.1.193)\u001b[0m MersennePrimes called with 55 3241\n"
     ]
    },
    {
     "name": "stderr",
     "output_type": "stream",
     "text": [
      "\u001b[36m(ServeReplica:MersennePrimes:MersennePrimes pid=200871, ip=10.244.1.193)\u001b[0m INFO 2025-03-24 04:46:00,809 MersennePrimes_MersennePrimes qnytibs0 adc1189b8bc433e0e7868e2910eef9bd -- GET /mprimes 200 22193.4ms\n",
      "\u001b[36m(ServeReplica:MersennePrimes:MersennePrimes pid=200871, ip=10.244.1.193)\u001b[0m INFO 2025-03-24 04:46:00,809 MersennePrimes_MersennePrimes qnytibs0 c239465f1275bb140322f31824ac1a59 -- GET /mprimes 200 22194.0ms\n",
      "\u001b[36m(ServeReplica:MersennePrimes:MersennePrimes pid=200871, ip=10.244.1.193)\u001b[0m INFO 2025-03-24 04:46:00,809 MersennePrimes_MersennePrimes qnytibs0 bcb4addc1de6155413766350a4992f4f -- GET /mprimes 200 22193.7ms\n"
     ]
    },
    {
     "name": "stdout",
     "output_type": "stream",
     "text": [
      "\u001b[36m(ServeReplica:MersennePrimes:MersennePrimes pid=200871, ip=10.244.1.193)\u001b[0m MersennePrimes called with 55 3241\n"
     ]
    },
    {
     "name": "stderr",
     "output_type": "stream",
     "text": [
      "\u001b[36m(ServeReplica:MersennePrimes:MersennePrimes pid=200871, ip=10.244.1.193)\u001b[0m INFO 2025-03-24 04:46:05,213 MersennePrimes_MersennePrimes qnytibs0 27009788aa80e2afa025ff46aaa84c93 -- GET /mprimes 200 21959.0ms\n"
     ]
    },
    {
     "name": "stdout",
     "output_type": "stream",
     "text": [
      "\u001b[36m(ServeReplica:MersennePrimes:MersennePrimes pid=200871, ip=10.244.1.193)\u001b[0m MersennePrimes called with 55 3241\n"
     ]
    },
    {
     "name": "stderr",
     "output_type": "stream",
     "text": [
      "\u001b[36m(ServeReplica:MersennePrimes:MersennePrimes pid=200871, ip=10.244.1.193)\u001b[0m INFO 2025-03-24 04:46:09,639 MersennePrimes_MersennePrimes qnytibs0 0da61aea441509fcb6cf7ae59891d0a6 -- GET /mprimes 200 22068.9ms\n"
     ]
    },
    {
     "name": "stdout",
     "output_type": "stream",
     "text": [
      "\u001b[36m(ServeReplica:MersennePrimes:MersennePrimes pid=200871, ip=10.244.1.193)\u001b[0m MersennePrimes called with 55 3241\n"
     ]
    },
    {
     "name": "stderr",
     "output_type": "stream",
     "text": [
      "\u001b[36m(ServeReplica:MersennePrimes:MersennePrimes pid=200871, ip=10.244.1.193)\u001b[0m INFO 2025-03-24 04:46:14,111 MersennePrimes_MersennePrimes qnytibs0 e7d917a4bb8665ce10de46ce7a78efce -- GET /mprimes 200 12576.8ms\n"
     ]
    },
    {
     "name": "stdout",
     "output_type": "stream",
     "text": [
      "\u001b[36m(ServeReplica:MersennePrimes:MersennePrimes pid=200871, ip=10.244.1.193)\u001b[0m MersennePrimes called with 55 3241\n",
      "\u001b[36m(ServeReplica:MersennePrimes:MersennePrimes pid=200871, ip=10.244.1.193)\u001b[0m MersennePrimes called with 55 3241\n"
     ]
    },
    {
     "name": "stderr",
     "output_type": "stream",
     "text": [
      "\u001b[36m(ServeController pid=2823)\u001b[0m INFO 2025-03-24 04:46:25,999 controller 2823 -- Upscaling Deployment(name='MersennePrimes', app='MersennePrimes') from 1 to 4 replicas. Current ongoing requests: 6.92, current running replicas: 1.\n",
      "\u001b[36m(ServeController pid=2823)\u001b[0m INFO 2025-03-24 04:46:25,999 controller 2823 -- Adding 3 replicas to Deployment(name='MersennePrimes', app='MersennePrimes').\n"
     ]
    },
    {
     "name": "stdout",
     "output_type": "stream",
     "text": [
      "\u001b[36m(ServeReplica:MersennePrimes:MersennePrimes pid=264037)\u001b[0m MersennePrimes is ready to serve\n",
      "\u001b[36m(ServeReplica:MersennePrimes:MersennePrimes pid=264036)\u001b[0m MersennePrimes is ready to serve\n",
      "\u001b[36m(ServeReplica:MersennePrimes:MersennePrimes pid=201985, ip=10.244.1.193)\u001b[0m MersennePrimes is ready to serve\n",
      "\u001b[36m(ServeReplica:MersennePrimes:MersennePrimes pid=264036)\u001b[0m MersennePrimes called with 55 3241\n",
      "\u001b[36m(ServeReplica:MersennePrimes:MersennePrimes pid=200871, ip=10.244.1.193)\u001b[0m MersennePrimes called with 55 3241\n",
      "\u001b[36m(ServeReplica:MersennePrimes:MersennePrimes pid=264037)\u001b[0m MersennePrimes called with 55 3241\n"
     ]
    },
    {
     "name": "stderr",
     "output_type": "stream",
     "text": [
      "\u001b[36m(ServeReplica:MersennePrimes:MersennePrimes pid=200871, ip=10.244.1.193)\u001b[0m INFO 2025-03-24 04:46:27,508 MersennePrimes_MersennePrimes qnytibs0 8db252a21be3cb25d63e95622fa512dd -- GET /mprimes 200 25928.4ms\n",
      "\u001b[36m(ServeReplica:MersennePrimes:MersennePrimes pid=200871, ip=10.244.1.193)\u001b[0m INFO 2025-03-24 04:46:27,508 MersennePrimes_MersennePrimes qnytibs0 beb6a6269bcdafcacc217beb1fbeea8f -- GET /mprimes 200 25691.1ms\n",
      "\u001b[36m(ServeReplica:MersennePrimes:MersennePrimes pid=200871, ip=10.244.1.193)\u001b[0m INFO 2025-03-24 04:46:27,509 MersennePrimes_MersennePrimes qnytibs0 483353596a18fb39318583da2eda4463 -- GET /mprimes 200 22193.7ms\n"
     ]
    },
    {
     "name": "stdout",
     "output_type": "stream",
     "text": [
      "\u001b[36m(ServeReplica:MersennePrimes:MersennePrimes pid=200871, ip=10.244.1.193)\u001b[0m MersennePrimes called with 55 3241\n"
     ]
    },
    {
     "name": "stderr",
     "output_type": "stream",
     "text": [
      "\u001b[36m(ServeReplica:MersennePrimes:MersennePrimes pid=200871, ip=10.244.1.193)\u001b[0m INFO 2025-03-24 04:46:31,989 MersennePrimes_MersennePrimes qnytibs0 27d19700a160bd2584ccfc8a91aedff5 -- GET /mprimes 200 22287.9ms\n",
      "\u001b[36m(ServeReplica:MersennePrimes:MersennePrimes pid=264036)\u001b[0m INFO 2025-03-24 04:46:31,965 MersennePrimes_MersennePrimes vqf068fk 300075e250ce06ef4e4ed4686af41324 -- GET /mprimes 200 4728.3ms\n",
      "\u001b[36m(ServeReplica:MersennePrimes:MersennePrimes pid=264037)\u001b[0m INFO 2025-03-24 04:46:32,309 MersennePrimes_MersennePrimes gdlyhmnd 202048c6954648bf485f687f0429f58d -- GET /mprimes 200 4750.8ms\n"
     ]
    },
    {
     "name": "stdout",
     "output_type": "stream",
     "text": [
      "Responses received: 15\n",
      "Iteration 4 complete\n"
     ]
    },
    {
     "name": "stderr",
     "output_type": "stream",
     "text": [
      "\u001b[36m(ServeReplica:MersennePrimes:MersennePrimes pid=200871, ip=10.244.1.193)\u001b[0m INFO 2025-03-24 04:46:36,557 MersennePrimes_MersennePrimes qnytibs0 f341cb31dd9943d2636b35b0ec7fbaba -- GET /mprimes 200 22369.1ms\n"
     ]
    },
    {
     "name": "stdout",
     "output_type": "stream",
     "text": [
      "Begin iteration 5\n",
      "Params: sleep_Seconds 9, start 23, stop 476\n",
      "\u001b[36m(ServeReplica:MersennePrimes:MersennePrimes pid=264037)\u001b[0m MersennePrimes called with 23 476\n",
      "\u001b[36m(ServeReplica:MersennePrimes:MersennePrimes pid=264037)\u001b[0m MersennePrimes called with 23 476\n",
      "\u001b[36m(ServeReplica:MersennePrimes:MersennePrimes pid=264037)\u001b[0m MersennePrimes called with 23 476\n",
      "\u001b[36m(ServeReplica:MersennePrimes:MersennePrimes pid=264037)\u001b[0m MersennePrimes called with 23 476\n",
      "\u001b[36m(ServeReplica:MersennePrimes:MersennePrimes pid=264036)\u001b[0m MersennePrimes called with 23 476\n",
      "\u001b[36m(ServeReplica:MersennePrimes:MersennePrimes pid=264036)\u001b[0m MersennePrimes called with 23 476\n",
      "\u001b[36m(ServeReplica:MersennePrimes:MersennePrimes pid=264036)\u001b[0m MersennePrimes called with 23 476\n",
      "\u001b[36m(ServeReplica:MersennePrimes:MersennePrimes pid=264036)\u001b[0m MersennePrimes called with 23 476\n",
      "Responses received: 15\n",
      "Iteration 5 complete\n",
      "\u001b[36m(ServeReplica:MersennePrimes:MersennePrimes pid=264037)\u001b[0m MersennePrimes called with 23 476\n",
      "\u001b[36m(ServeReplica:MersennePrimes:MersennePrimes pid=264037)\u001b[0m MersennePrimes called with 23 476\n",
      "\u001b[36m(ServeReplica:MersennePrimes:MersennePrimes pid=264037)\u001b[0m MersennePrimes called with 23 476\n",
      "\u001b[36m(ServeReplica:MersennePrimes:MersennePrimes pid=264036)\u001b[0m MersennePrimes called with 23 476\n",
      "\u001b[36m(ServeReplica:MersennePrimes:MersennePrimes pid=264036)\u001b[0m MersennePrimes called with 23 476\n",
      "\u001b[36m(ServeReplica:MersennePrimes:MersennePrimes pid=264036)\u001b[0m MersennePrimes called with 23 476\n",
      "\u001b[36m(ServeReplica:MersennePrimes:MersennePrimes pid=264036)\u001b[0m MersennePrimes called with 23 476\n"
     ]
    },
    {
     "name": "stderr",
     "output_type": "stream",
     "text": [
      "\u001b[36m(ServeReplica:MersennePrimes:MersennePrimes pid=264036)\u001b[0m INFO 2025-03-24 04:46:37,573 MersennePrimes_MersennePrimes vqf068fk 7bbe294ba1326dc22b5d22e59be36a16 -- GET /mprimes 200 7.9ms\n",
      "\u001b[36m(ServeReplica:MersennePrimes:MersennePrimes pid=264036)\u001b[0m INFO 2025-03-24 04:46:37,593 MersennePrimes_MersennePrimes vqf068fk c35d349c1e89c30ea5621ad018da17f6 -- GET /mprimes 200 15.9ms\n",
      "\u001b[36m(ServeReplica:MersennePrimes:MersennePrimes pid=264036)\u001b[0m INFO 2025-03-24 04:46:37,594 MersennePrimes_MersennePrimes vqf068fk 385453573d17b353f8d52541dea4d9e4 -- GET /mprimes 200 15.8ms\n",
      "\u001b[36m(ServeReplica:MersennePrimes:MersennePrimes pid=264037)\u001b[0m INFO 2025-03-24 04:46:37,575 MersennePrimes_MersennePrimes gdlyhmnd 39f531ca86305c250a75bdf45a08bcac -- GET /mprimes 200 9.5ms\n",
      "\u001b[36m(ServeReplica:MersennePrimes:MersennePrimes pid=264037)\u001b[0m INFO 2025-03-24 04:46:37,585 MersennePrimes_MersennePrimes gdlyhmnd 1550d10400829a756a521961f3dd0824 -- GET /mprimes 200 19.1ms\n",
      "\u001b[36m(ServeReplica:MersennePrimes:MersennePrimes pid=264037)\u001b[0m INFO 2025-03-24 04:46:37,599 MersennePrimes_MersennePrimes gdlyhmnd 8f7a08fdc0ef57526bdbda8754962794 -- GET /mprimes 200 32.4ms\n",
      "\u001b[36m(ServeReplica:MersennePrimes:MersennePrimes pid=264037)\u001b[0m INFO 2025-03-24 04:46:37,599 MersennePrimes_MersennePrimes gdlyhmnd 6242e4ef34fab1775a1bbe4894bc8b6f -- GET /mprimes 200 32.4ms\n",
      "\u001b[36m(ServeReplica:MersennePrimes:MersennePrimes pid=264036)\u001b[0m INFO 2025-03-24 04:46:37,602 MersennePrimes_MersennePrimes vqf068fk 760b14191563a3948d7c0eb56d324206 -- GET /mprimes 200 9.0ms\n",
      "\u001b[36m(ServeReplica:MersennePrimes:MersennePrimes pid=264036)\u001b[0m INFO 2025-03-24 04:46:37,611 MersennePrimes_MersennePrimes vqf068fk 17c7b268a5cf5904e30d2f3d495a2972 -- GET /mprimes 200 8.4ms\n",
      "\u001b[36m(ServeReplica:MersennePrimes:MersennePrimes pid=264036)\u001b[0m INFO 2025-03-24 04:46:37,628 MersennePrimes_MersennePrimes vqf068fk cf00d531d1ab6f8970e0053d178f6bb1 -- GET /mprimes 200 25.4ms\n",
      "\u001b[36m(ServeReplica:MersennePrimes:MersennePrimes pid=264036)\u001b[0m INFO 2025-03-24 04:46:37,629 MersennePrimes_MersennePrimes vqf068fk 3bf03356e488d54aeba070bd00f71fc1 -- GET /mprimes 200 26.3ms\n",
      "\u001b[36m(ServeReplica:MersennePrimes:MersennePrimes pid=264036)\u001b[0m INFO 2025-03-24 04:46:37,630 MersennePrimes_MersennePrimes vqf068fk 82b933051d8248c0b091786c40f79ec7 -- GET /mprimes 200 27.0ms\n",
      "\u001b[36m(ServeReplica:MersennePrimes:MersennePrimes pid=264037)\u001b[0m INFO 2025-03-24 04:46:37,612 MersennePrimes_MersennePrimes gdlyhmnd b0807fa98f873dd58eb8a8b8b9c75170 -- GET /mprimes 200 7.1ms\n",
      "\u001b[36m(ServeReplica:MersennePrimes:MersennePrimes pid=264037)\u001b[0m INFO 2025-03-24 04:46:37,622 MersennePrimes_MersennePrimes gdlyhmnd 9eeb1eff423443fae249ed0e10f4f117 -- GET /mprimes 200 7.5ms\n",
      "\u001b[36m(ServeReplica:MersennePrimes:MersennePrimes pid=264037)\u001b[0m INFO 2025-03-24 04:46:37,629 MersennePrimes_MersennePrimes gdlyhmnd 3c001bcd867c04e3a4b3091b498f4fa1 -- GET /mprimes 200 7.2ms\n"
     ]
    },
    {
     "name": "stdout",
     "output_type": "stream",
     "text": [
      "Begin iteration 6\n",
      "Params: sleep_Seconds 56, start 8, stop 2241\n",
      "Responses received: 15\n",
      "Iteration 6 complete\n",
      "\u001b[36m(ServeReplica:MersennePrimes:MersennePrimes pid=264037)\u001b[0m MersennePrimes called with 8 2241\n",
      "\u001b[36m(ServeReplica:MersennePrimes:MersennePrimes pid=264037)\u001b[0m MersennePrimes called with 8 2241\n",
      "\u001b[36m(ServeReplica:MersennePrimes:MersennePrimes pid=264037)\u001b[0m MersennePrimes called with 8 2241\n",
      "\u001b[36m(ServeReplica:MersennePrimes:MersennePrimes pid=264037)\u001b[0m MersennePrimes called with 8 2241\n",
      "\u001b[36m(ServeReplica:MersennePrimes:MersennePrimes pid=264037)\u001b[0m MersennePrimes called with 8 2241\n",
      "\u001b[36m(ServeReplica:MersennePrimes:MersennePrimes pid=264037)\u001b[0m MersennePrimes called with 8 2241\n",
      "\u001b[36m(ServeReplica:MersennePrimes:MersennePrimes pid=264037)\u001b[0m MersennePrimes called with 8 2241\n",
      "\u001b[36m(ServeReplica:MersennePrimes:MersennePrimes pid=264037)\u001b[0m MersennePrimes called with 8 2241\n",
      "\u001b[36m(ServeReplica:MersennePrimes:MersennePrimes pid=264037)\u001b[0m MersennePrimes called with 8 2241\n",
      "\u001b[36m(ServeReplica:MersennePrimes:MersennePrimes pid=264036)\u001b[0m MersennePrimes called with 8 2241\n",
      "\u001b[36m(ServeReplica:MersennePrimes:MersennePrimes pid=264036)\u001b[0m MersennePrimes called with 8 2241\n",
      "\u001b[36m(ServeReplica:MersennePrimes:MersennePrimes pid=264036)\u001b[0m MersennePrimes called with 8 2241\n",
      "\u001b[36m(ServeReplica:MersennePrimes:MersennePrimes pid=264036)\u001b[0m MersennePrimes called with 8 2241\n",
      "\u001b[36m(ServeReplica:MersennePrimes:MersennePrimes pid=264036)\u001b[0m MersennePrimes called with 8 2241\n",
      "\u001b[36m(ServeReplica:MersennePrimes:MersennePrimes pid=264036)\u001b[0m MersennePrimes called with 8 2241\n"
     ]
    },
    {
     "name": "stderr",
     "output_type": "stream",
     "text": [
      "\u001b[36m(ServeReplica:MersennePrimes:MersennePrimes pid=264036)\u001b[0m INFO 2025-03-24 04:46:46,648 MersennePrimes_MersennePrimes vqf068fk f7ee760d877545229c7695f50030ed14 -- GET /mprimes 200 2.6ms\n",
      "\u001b[36m(ServeReplica:MersennePrimes:MersennePrimes pid=264036)\u001b[0m INFO 2025-03-24 04:46:46,649 MersennePrimes_MersennePrimes vqf068fk 6f66a04c8febca7a5906c871e5375291 -- GET /mprimes 200 2.6ms\n",
      "\u001b[36m(ServeReplica:MersennePrimes:MersennePrimes pid=264036)\u001b[0m INFO 2025-03-24 04:46:46,655 MersennePrimes_MersennePrimes vqf068fk e8d190fbfd07e83e43d30b4b114117e2 -- GET /mprimes 200 2.3ms\n",
      "\u001b[36m(ServeReplica:MersennePrimes:MersennePrimes pid=264036)\u001b[0m INFO 2025-03-24 04:46:46,656 MersennePrimes_MersennePrimes vqf068fk 96d0171b90294e6874add7ebaea4cc33 -- GET /mprimes 200 2.7ms\n",
      "\u001b[36m(ServeReplica:MersennePrimes:MersennePrimes pid=264036)\u001b[0m INFO 2025-03-24 04:46:46,657 MersennePrimes_MersennePrimes vqf068fk 83a68f385ba95cd8b465420ba7956ed5 -- GET /mprimes 200 2.9ms\n",
      "\u001b[36m(ServeReplica:MersennePrimes:MersennePrimes pid=264036)\u001b[0m INFO 2025-03-24 04:46:46,658 MersennePrimes_MersennePrimes vqf068fk f25fe43f4f36ac89267f6cb802cc93eb -- GET /mprimes 200 3.1ms\n",
      "\u001b[36m(ServeReplica:MersennePrimes:MersennePrimes pid=264037)\u001b[0m INFO 2025-03-24 04:46:46,642 MersennePrimes_MersennePrimes gdlyhmnd 8fcf835bc016f9d3a7cf84235ddcb868 -- GET /mprimes 200 4.8ms\n",
      "\u001b[36m(ServeReplica:MersennePrimes:MersennePrimes pid=264037)\u001b[0m INFO 2025-03-24 04:46:46,642 MersennePrimes_MersennePrimes gdlyhmnd 1b3c3c9fe3fe86d060ffc4903f0bfd4f -- GET /mprimes 200 5.1ms\n",
      "\u001b[36m(ServeReplica:MersennePrimes:MersennePrimes pid=264037)\u001b[0m INFO 2025-03-24 04:46:46,643 MersennePrimes_MersennePrimes gdlyhmnd 923823365875cc2172724da52fa2e71e -- GET /mprimes 200 5.9ms\n",
      "\u001b[36m(ServeReplica:MersennePrimes:MersennePrimes pid=264037)\u001b[0m INFO 2025-03-24 04:46:46,644 MersennePrimes_MersennePrimes gdlyhmnd 326c3efe27010f0c2a78995017931803 -- GET /mprimes 200 5.5ms\n",
      "\u001b[36m(ServeReplica:MersennePrimes:MersennePrimes pid=264037)\u001b[0m INFO 2025-03-24 04:46:46,644 MersennePrimes_MersennePrimes gdlyhmnd 1778a80c7c02ddcc422e675db9a91726 -- GET /mprimes 200 5.8ms\n",
      "\u001b[36m(ServeReplica:MersennePrimes:MersennePrimes pid=264037)\u001b[0m INFO 2025-03-24 04:46:46,650 MersennePrimes_MersennePrimes gdlyhmnd 4331eee50c62ceca20bd343453361d46 -- GET /mprimes 200 2.7ms\n",
      "\u001b[36m(ServeReplica:MersennePrimes:MersennePrimes pid=264037)\u001b[0m INFO 2025-03-24 04:46:46,651 MersennePrimes_MersennePrimes gdlyhmnd d7e3b91986874d3032192c484c4f44af -- GET /mprimes 200 2.9ms\n",
      "\u001b[36m(ServeReplica:MersennePrimes:MersennePrimes pid=264037)\u001b[0m INFO 2025-03-24 04:46:46,652 MersennePrimes_MersennePrimes gdlyhmnd 44611e3eb002d68bcfbdea3cc6f208a9 -- GET /mprimes 200 3.4ms\n",
      "\u001b[36m(ServeReplica:MersennePrimes:MersennePrimes pid=264037)\u001b[0m INFO 2025-03-24 04:46:46,658 MersennePrimes_MersennePrimes gdlyhmnd 9ebdeac320d4009d985bc3266ff30042 -- GET /mprimes 200 2.5ms\n"
     ]
    },
    {
     "name": "stdout",
     "output_type": "stream",
     "text": [
      "Begin iteration 7\n",
      "Params: sleep_Seconds 29, start 83, stop 890\n",
      "\u001b[36m(ServeReplica:MersennePrimes:MersennePrimes pid=264037)\u001b[0m MersennePrimes called with 83 890\n",
      "\u001b[36m(ServeReplica:MersennePrimes:MersennePrimes pid=264037)\u001b[0m MersennePrimes called with 83 890\n",
      "\u001b[36m(ServeReplica:MersennePrimes:MersennePrimes pid=264036)\u001b[0m MersennePrimes called with 83 890\n",
      "\u001b[36m(ServeReplica:MersennePrimes:MersennePrimes pid=264036)\u001b[0m MersennePrimes called with 83 890\n",
      "\u001b[36m(ServeReplica:MersennePrimes:MersennePrimes pid=264036)\u001b[0m MersennePrimes called with 83 890\n",
      "\u001b[36m(ServeReplica:MersennePrimes:MersennePrimes pid=264037)\u001b[0m MersennePrimes called with 83 890\n",
      "\u001b[36m(ServeReplica:MersennePrimes:MersennePrimes pid=264037)\u001b[0m MersennePrimes called with 83 890\n",
      "\u001b[36m(ServeReplica:MersennePrimes:MersennePrimes pid=264036)\u001b[0m MersennePrimes called with 83 890\n",
      "\u001b[36m(ServeReplica:MersennePrimes:MersennePrimes pid=264036)\u001b[0m MersennePrimes called with 83 890\n"
     ]
    },
    {
     "name": "stderr",
     "output_type": "stream",
     "text": [
      "\u001b[36m(ServeReplica:MersennePrimes:MersennePrimes pid=264036)\u001b[0m INFO 2025-03-24 04:47:42,717 MersennePrimes_MersennePrimes vqf068fk a6a8b2aa149ed0c165787b7c87232088 -- GET /mprimes 200 50.8ms\n",
      "\u001b[36m(ServeReplica:MersennePrimes:MersennePrimes pid=264037)\u001b[0m INFO 2025-03-24 04:47:42,752 MersennePrimes_MersennePrimes gdlyhmnd b1818e7f85e84e98849d7c1da9666f92 -- GET /mprimes 200 86.0ms\n",
      "\u001b[36m(ServeReplica:MersennePrimes:MersennePrimes pid=264036)\u001b[0m INFO 2025-03-24 04:47:42,801 MersennePrimes_MersennePrimes vqf068fk 44f6fa295cd3ac4af004cc9babdc14ef -- GET /mprimes 200 134.4ms\n",
      "\u001b[36m(ServeReplica:MersennePrimes:MersennePrimes pid=264036)\u001b[0m INFO 2025-03-24 04:47:42,801 MersennePrimes_MersennePrimes vqf068fk fd69f813398e99d88ab3c4b11a81b6d6 -- GET /mprimes 200 134.2ms\n",
      "\u001b[36m(ServeReplica:MersennePrimes:MersennePrimes pid=264036)\u001b[0m INFO 2025-03-24 04:47:42,855 MersennePrimes_MersennePrimes vqf068fk 1ac6753c4c4ad04c39698c96b4fcecad -- GET /mprimes 200 54.3ms\n",
      "\u001b[36m(ServeReplica:MersennePrimes:MersennePrimes pid=264037)\u001b[0m INFO 2025-03-24 04:47:42,787 MersennePrimes_MersennePrimes gdlyhmnd ee9665fe5abcf1362ae46092f583fdf0 -- GET /mprimes 200 121.1ms\n",
      "\u001b[36m(ServeReplica:MersennePrimes:MersennePrimes pid=264037)\u001b[0m INFO 2025-03-24 04:47:42,833 MersennePrimes_MersennePrimes gdlyhmnd a949917a5b48ad3e2d9c40f30f0bc153 -- GET /mprimes 200 92.1ms\n",
      "\u001b[36m(ServeReplica:MersennePrimes:MersennePrimes pid=264036)\u001b[0m INFO 2025-03-24 04:47:42,905 MersennePrimes_MersennePrimes vqf068fk 4835e91cff9c8780beed03da9c91c028 -- GET /mprimes 200 70.8ms\n",
      "\u001b[36m(ServeReplica:MersennePrimes:MersennePrimes pid=264036)\u001b[0m INFO 2025-03-24 04:47:42,952 MersennePrimes_MersennePrimes vqf068fk 4bb8bfa12bbb37c047011048d05bba4c -- GET /mprimes 200 96.7ms\n",
      "\u001b[36m(ServeReplica:MersennePrimes:MersennePrimes pid=264037)\u001b[0m INFO 2025-03-24 04:47:42,891 MersennePrimes_MersennePrimes gdlyhmnd 34cda36b7d26629de9613f23f116d7eb -- GET /mprimes 200 108.4ms\n",
      "\u001b[36m(ServeReplica:MersennePrimes:MersennePrimes pid=264036)\u001b[0m INFO 2025-03-24 04:47:43,000 MersennePrimes_MersennePrimes vqf068fk 4bc08bd499104046564f244fdfca86df -- GET /mprimes 200 101.0ms\n",
      "\u001b[36m(ServeReplica:MersennePrimes:MersennePrimes pid=264036)\u001b[0m INFO 2025-03-24 04:47:43,058 MersennePrimes_MersennePrimes vqf068fk d5504bee4dfb537044820fe2d001f859 -- GET /mprimes 200 102.3ms\n",
      "\u001b[36m(ServeReplica:MersennePrimes:MersennePrimes pid=264037)\u001b[0m INFO 2025-03-24 04:47:42,969 MersennePrimes_MersennePrimes gdlyhmnd 4c80cb8c926f1bc99639cb48b46f94a0 -- GET /mprimes 200 170.5ms\n",
      "\u001b[36m(ServeReplica:MersennePrimes:MersennePrimes pid=264037)\u001b[0m INFO 2025-03-24 04:47:42,994 MersennePrimes_MersennePrimes gdlyhmnd 1631a96f61c2ef47f91118db1e108df5 -- GET /mprimes 200 103.1ms\n",
      "\u001b[36m(ServeReplica:MersennePrimes:MersennePrimes pid=264037)\u001b[0m INFO 2025-03-24 04:47:43,052 MersennePrimes_MersennePrimes gdlyhmnd 4351e62fee8bf56fe7b62d4967d85c4f -- GET /mprimes 200 103.6ms\n"
     ]
    },
    {
     "name": "stdout",
     "output_type": "stream",
     "text": [
      "\u001b[36m(ServeReplica:MersennePrimes:MersennePrimes pid=264037)\u001b[0m MersennePrimes called with 83 890\n",
      "\u001b[36m(ServeReplica:MersennePrimes:MersennePrimes pid=264037)\u001b[0m MersennePrimes called with 83 890\n",
      "\u001b[36m(ServeReplica:MersennePrimes:MersennePrimes pid=264036)\u001b[0m MersennePrimes called with 83 890\n",
      "\u001b[36m(ServeReplica:MersennePrimes:MersennePrimes pid=264036)\u001b[0m MersennePrimes called with 83 890\n",
      "Responses received: 15\n",
      "Iteration 7 complete\n",
      "\u001b[36m(ServeReplica:MersennePrimes:MersennePrimes pid=264037)\u001b[0m MersennePrimes called with 83 890\n",
      "\u001b[36m(ServeReplica:MersennePrimes:MersennePrimes pid=264036)\u001b[0m MersennePrimes called with 83 890\n",
      "Begin iteration 8\n",
      "Params: sleep_Seconds 3, start 72, stop 3160\n",
      "Responses received: 15\n",
      "Iteration 8 complete\n",
      "\u001b[36m(ServeReplica:MersennePrimes:MersennePrimes pid=264037)\u001b[0m MersennePrimes called with 72 3160\n",
      "\u001b[36m(ServeReplica:MersennePrimes:MersennePrimes pid=264037)\u001b[0m MersennePrimes called with 72 3160\n",
      "\u001b[36m(ServeReplica:MersennePrimes:MersennePrimes pid=264037)\u001b[0m MersennePrimes called with 72 3160\n",
      "\u001b[36m(ServeReplica:MersennePrimes:MersennePrimes pid=264037)\u001b[0m MersennePrimes called with 72 3160\n",
      "\u001b[36m(ServeReplica:MersennePrimes:MersennePrimes pid=264037)\u001b[0m MersennePrimes called with 72 3160\n",
      "\u001b[36m(ServeReplica:MersennePrimes:MersennePrimes pid=264037)\u001b[0m MersennePrimes called with 72 3160\n",
      "\u001b[36m(ServeReplica:MersennePrimes:MersennePrimes pid=264037)\u001b[0m MersennePrimes called with 72 3160\n",
      "\u001b[36m(ServeReplica:MersennePrimes:MersennePrimes pid=264037)\u001b[0m MersennePrimes called with 72 3160\n",
      "\u001b[36m(ServeReplica:MersennePrimes:MersennePrimes pid=264037)\u001b[0m MersennePrimes called with 72 3160\n",
      "\u001b[36m(ServeReplica:MersennePrimes:MersennePrimes pid=264037)\u001b[0m MersennePrimes called with 72 3160\n",
      "\u001b[36m(ServeReplica:MersennePrimes:MersennePrimes pid=264037)\u001b[0m MersennePrimes called with 72 3160\n",
      "\u001b[36m(ServeReplica:MersennePrimes:MersennePrimes pid=264036)\u001b[0m MersennePrimes called with 72 3160\n",
      "\u001b[36m(ServeReplica:MersennePrimes:MersennePrimes pid=264036)\u001b[0m MersennePrimes called with 72 3160\n",
      "\u001b[36m(ServeReplica:MersennePrimes:MersennePrimes pid=264036)\u001b[0m MersennePrimes called with 72 3160\n",
      "\u001b[36m(ServeReplica:MersennePrimes:MersennePrimes pid=264036)\u001b[0m MersennePrimes called with 72 3160\n"
     ]
    },
    {
     "name": "stderr",
     "output_type": "stream",
     "text": [
      "\u001b[36m(ServeReplica:MersennePrimes:MersennePrimes pid=264036)\u001b[0m INFO 2025-03-24 04:48:12,068 MersennePrimes_MersennePrimes vqf068fk 95da4c7257fc4a8d0146b469240da4c2 -- GET /mprimes 200 3.2ms\n",
      "\u001b[36m(ServeReplica:MersennePrimes:MersennePrimes pid=264036)\u001b[0m INFO 2025-03-24 04:48:12,069 MersennePrimes_MersennePrimes vqf068fk 4a462ce011427378617e8475f49622be -- GET /mprimes 200 3.1ms\n",
      "\u001b[36m(ServeReplica:MersennePrimes:MersennePrimes pid=264036)\u001b[0m INFO 2025-03-24 04:48:12,070 MersennePrimes_MersennePrimes vqf068fk 9bd44b61881b8868eae2872c575e7522 -- GET /mprimes 200 3.8ms\n",
      "\u001b[36m(ServeReplica:MersennePrimes:MersennePrimes pid=264036)\u001b[0m INFO 2025-03-24 04:48:12,071 MersennePrimes_MersennePrimes vqf068fk 4699cab55bbb8ca4580735421f9afc26 -- GET /mprimes 200 4.3ms\n",
      "\u001b[36m(ServeReplica:MersennePrimes:MersennePrimes pid=264037)\u001b[0m INFO 2025-03-24 04:48:12,067 MersennePrimes_MersennePrimes gdlyhmnd bd11a48bae14861b96af721fe2044d59 -- GET /mprimes 200 2.0ms\n",
      "\u001b[36m(ServeReplica:MersennePrimes:MersennePrimes pid=264037)\u001b[0m INFO 2025-03-24 04:48:12,077 MersennePrimes_MersennePrimes gdlyhmnd 6b311d77ecaa03ebf65e79e840c19e19 -- GET /mprimes 200 4.6ms\n",
      "\u001b[36m(ServeReplica:MersennePrimes:MersennePrimes pid=264037)\u001b[0m INFO 2025-03-24 04:48:12,078 MersennePrimes_MersennePrimes gdlyhmnd 0eb6b593b5a1239cf01f3c48c284ca69 -- GET /mprimes 200 4.7ms\n",
      "\u001b[36m(ServeReplica:MersennePrimes:MersennePrimes pid=264037)\u001b[0m INFO 2025-03-24 04:48:12,079 MersennePrimes_MersennePrimes gdlyhmnd 02a687a6de2a3f2a834db7ed29bbfcdc -- GET /mprimes 200 4.8ms\n",
      "\u001b[36m(ServeReplica:MersennePrimes:MersennePrimes pid=264037)\u001b[0m INFO 2025-03-24 04:48:12,081 MersennePrimes_MersennePrimes gdlyhmnd 6e1b8fbb49b7e778eca7e83cd322f708 -- GET /mprimes 200 5.4ms\n",
      "\u001b[36m(ServeReplica:MersennePrimes:MersennePrimes pid=264037)\u001b[0m INFO 2025-03-24 04:48:12,082 MersennePrimes_MersennePrimes gdlyhmnd a4d7423fc1a272cd09c875d174ae007e -- GET /mprimes 200 4.8ms\n",
      "\u001b[36m(ServeReplica:MersennePrimes:MersennePrimes pid=264037)\u001b[0m INFO 2025-03-24 04:48:12,083 MersennePrimes_MersennePrimes gdlyhmnd 90172fb0169a9395334e4bb9129c673f -- GET /mprimes 200 2.8ms\n",
      "\u001b[36m(ServeReplica:MersennePrimes:MersennePrimes pid=264037)\u001b[0m INFO 2025-03-24 04:48:12,085 MersennePrimes_MersennePrimes gdlyhmnd fa548de8326585c0f186889eb537a4a4 -- GET /mprimes 200 2.0ms\n",
      "\u001b[36m(ServeReplica:MersennePrimes:MersennePrimes pid=264037)\u001b[0m INFO 2025-03-24 04:48:12,086 MersennePrimes_MersennePrimes gdlyhmnd df52fb3163ece4815a8252fce0858b9f -- GET /mprimes 200 2.2ms\n",
      "\u001b[36m(ServeReplica:MersennePrimes:MersennePrimes pid=264037)\u001b[0m INFO 2025-03-24 04:48:12,089 MersennePrimes_MersennePrimes gdlyhmnd 0214c2ce0c374a13473054c5abf4b403 -- GET /mprimes 200 2.9ms\n",
      "\u001b[36m(ServeReplica:MersennePrimes:MersennePrimes pid=264037)\u001b[0m INFO 2025-03-24 04:48:12,089 MersennePrimes_MersennePrimes gdlyhmnd 36221ce139f692578d210a53db8a0ad1 -- GET /mprimes 200 1.9ms\n"
     ]
    },
    {
     "name": "stdout",
     "output_type": "stream",
     "text": [
      "Begin iteration 9\n",
      "Params: sleep_Seconds 31, start 79, stop 2058\n",
      "\u001b[36m(ServeReplica:MersennePrimes:MersennePrimes pid=264037)\u001b[0m MersennePrimes called with 79 2058\n"
     ]
    },
    {
     "name": "stderr",
     "output_type": "stream",
     "text": [
      "\u001b[36m(ServeReplica:MersennePrimes:MersennePrimes pid=264037)\u001b[0m INFO 2025-03-24 04:48:15,936 MersennePrimes_MersennePrimes gdlyhmnd a282f52e0446799507fa75a2380058ed -- GET /mprimes 200 840.4ms\n"
     ]
    },
    {
     "name": "stdout",
     "output_type": "stream",
     "text": [
      "\u001b[36m(ServeReplica:MersennePrimes:MersennePrimes pid=264037)\u001b[0m MersennePrimes called with 79 2058\n",
      "\u001b[36m(ServeReplica:MersennePrimes:MersennePrimes pid=264036)\u001b[0m MersennePrimes called with 79 2058\n"
     ]
    },
    {
     "name": "stderr",
     "output_type": "stream",
     "text": [
      "\u001b[36m(ServeReplica:MersennePrimes:MersennePrimes pid=264036)\u001b[0m INFO 2025-03-24 04:48:16,786 MersennePrimes_MersennePrimes vqf068fk f6484ed3f28e737d87790d41e0717c4b -- GET /mprimes 200 845.9ms\n"
     ]
    },
    {
     "name": "stdout",
     "output_type": "stream",
     "text": [
      "\u001b[36m(ServeReplica:MersennePrimes:MersennePrimes pid=264036)\u001b[0m MersennePrimes called with 79 2058\n",
      "\u001b[36m(ServeReplica:MersennePrimes:MersennePrimes pid=264037)\u001b[0m MersennePrimes called with 79 2058\n"
     ]
    },
    {
     "name": "stderr",
     "output_type": "stream",
     "text": [
      "\u001b[36m(ServeReplica:MersennePrimes:MersennePrimes pid=264036)\u001b[0m INFO 2025-03-24 04:48:17,685 MersennePrimes_MersennePrimes vqf068fk be6394b2aa9909e571b5ec3cc2237e3a -- GET /mprimes 200 894.2ms\n"
     ]
    },
    {
     "name": "stdout",
     "output_type": "stream",
     "text": [
      "\u001b[36m(ServeReplica:MersennePrimes:MersennePrimes pid=264036)\u001b[0m MersennePrimes called with 79 2058\n",
      "\u001b[36m(ServeReplica:MersennePrimes:MersennePrimes pid=264037)\u001b[0m MersennePrimes called with 79 2058\n"
     ]
    },
    {
     "name": "stderr",
     "output_type": "stream",
     "text": [
      "\u001b[36m(ServeReplica:MersennePrimes:MersennePrimes pid=264036)\u001b[0m INFO 2025-03-24 04:48:18,539 MersennePrimes_MersennePrimes vqf068fk c6cd7def7e8a33bf73e7f308da0cf543 -- GET /mprimes 200 1670.2ms\n"
     ]
    },
    {
     "name": "stdout",
     "output_type": "stream",
     "text": [
      "\u001b[36m(ServeReplica:MersennePrimes:MersennePrimes pid=264037)\u001b[0m MersennePrimes called with 79 2058\n",
      "\u001b[36m(ServeReplica:MersennePrimes:MersennePrimes pid=264036)\u001b[0m MersennePrimes called with 79 2058\n"
     ]
    },
    {
     "name": "stderr",
     "output_type": "stream",
     "text": [
      "\u001b[36m(ServeReplica:MersennePrimes:MersennePrimes pid=264036)\u001b[0m INFO 2025-03-24 04:48:19,396 MersennePrimes_MersennePrimes vqf068fk 39105bdd7e07bdbe4ebdab653ae4597b -- GET /mprimes 200 1642.4ms\n",
      "\u001b[36m(ServeReplica:MersennePrimes:MersennePrimes pid=264037)\u001b[0m INFO 2025-03-24 04:48:19,480 MersennePrimes_MersennePrimes gdlyhmnd 2333cb478d10fdef8c08ee6e07e5d9ad -- GET /mprimes 200 4384.8ms\n",
      "\u001b[36m(ServeReplica:MersennePrimes:MersennePrimes pid=264037)\u001b[0m INFO 2025-03-24 04:48:19,481 MersennePrimes_MersennePrimes gdlyhmnd 56a5acccefe386ea51950ad26216efd5 -- GET /mprimes 200 4385.1ms\n",
      "\u001b[36m(ServeReplica:MersennePrimes:MersennePrimes pid=264037)\u001b[0m INFO 2025-03-24 04:48:19,481 MersennePrimes_MersennePrimes gdlyhmnd 8ce4e5cd0334447e37f19bbf838a8a60 -- GET /mprimes 200 4385.2ms\n",
      "\u001b[36m(ServeReplica:MersennePrimes:MersennePrimes pid=264037)\u001b[0m INFO 2025-03-24 04:48:19,481 MersennePrimes_MersennePrimes gdlyhmnd 132206482dc079013c9ea3f9ef57a21b -- GET /mprimes 200 4385.6ms\n"
     ]
    },
    {
     "name": "stdout",
     "output_type": "stream",
     "text": [
      "\u001b[36m(ServeReplica:MersennePrimes:MersennePrimes pid=264036)\u001b[0m MersennePrimes called with 79 2058\n",
      "BAD REQUEST\n",
      "\u001b[36m(ServeReplica:MersennePrimes:MersennePrimes pid=264037)\u001b[0m MersennePrimes called with 79 2058\n"
     ]
    },
    {
     "name": "stderr",
     "output_type": "stream",
     "text": [
      "\u001b[36m(ServeReplica:MersennePrimes:MersennePrimes pid=264036)\u001b[0m INFO 2025-03-24 04:48:20,243 MersennePrimes_MersennePrimes vqf068fk b2a7b3aa3ffe1e120e1df91ffb363182 -- GET /mprimes 200 2469.1ms\n",
      "\u001b[36m(ServeReplica:MersennePrimes:MersennePrimes pid=264037)\u001b[0m INFO 2025-03-24 04:48:20,338 MersennePrimes_MersennePrimes gdlyhmnd f0601ef30a9993a6f9d852d8b18fdcc0 -- GET /mprimes 200 907.5ms\n"
     ]
    },
    {
     "name": "stdout",
     "output_type": "stream",
     "text": [
      "\u001b[36m(ServeReplica:MersennePrimes:MersennePrimes pid=264036)\u001b[0m MersennePrimes called with 79 2058\n",
      "\u001b[36m(ServeReplica:MersennePrimes:MersennePrimes pid=264037)\u001b[0m MersennePrimes called with 79 2058\n"
     ]
    },
    {
     "name": "stderr",
     "output_type": "stream",
     "text": [
      "\u001b[36m(ServeReplica:MersennePrimes:MersennePrimes pid=264036)\u001b[0m INFO 2025-03-24 04:48:21,120 MersennePrimes_MersennePrimes vqf068fk 9dc3c208f9506b66b1256b8099cee818 -- GET /mprimes 200 2531.2ms\n",
      "\u001b[36m(ServeReplica:MersennePrimes:MersennePrimes pid=264037)\u001b[0m INFO 2025-03-24 04:48:21,215 MersennePrimes_MersennePrimes gdlyhmnd e1461c11f441dc104f818fc547e79334 -- GET /mprimes 200 920.9ms\n"
     ]
    },
    {
     "name": "stdout",
     "output_type": "stream",
     "text": [
      "\u001b[36m(ServeReplica:MersennePrimes:MersennePrimes pid=264036)\u001b[0m MersennePrimes called with 79 2058\n",
      "\u001b[36m(ServeReplica:MersennePrimes:MersennePrimes pid=264036)\u001b[0m MersennePrimes called with 79 2058\n",
      "Responses received: 15\n",
      "Iteration 9 complete\n"
     ]
    },
    {
     "name": "stderr",
     "output_type": "stream",
     "text": [
      "\u001b[36m(ServeReplica:MersennePrimes:MersennePrimes pid=264036)\u001b[0m INFO 2025-03-24 04:48:22,755 MersennePrimes_MersennePrimes vqf068fk f4d2d1ad407fff84df1fa2b9a822f82e -- GET /mprimes 200 4071.4ms\n",
      "\u001b[36m(ServeReplica:MersennePrimes:MersennePrimes pid=264036)\u001b[0m INFO 2025-03-24 04:48:22,756 MersennePrimes_MersennePrimes vqf068fk cb1d42da951e46a4b2275736cee48499 -- GET /mprimes 200 3233.5ms\n"
     ]
    },
    {
     "name": "stdout",
     "output_type": "stream",
     "text": [
      "Begin iteration 10\n",
      "Params: sleep_Seconds 12, start 71, stop 1564\n",
      "\u001b[36m(ServeReplica:MersennePrimes:MersennePrimes pid=264037)\u001b[0m MersennePrimes called with 71 1564\n",
      "\u001b[36m(ServeReplica:MersennePrimes:MersennePrimes pid=264036)\u001b[0m MersennePrimes called with 71 1564\n"
     ]
    },
    {
     "name": "stderr",
     "output_type": "stream",
     "text": [
      "\u001b[36m(ServeReplica:MersennePrimes:MersennePrimes pid=264037)\u001b[0m INFO 2025-03-24 04:48:54,084 MersennePrimes_MersennePrimes gdlyhmnd e66d1afa6fe32ec6e9093e33e5af80b8 -- GET /mprimes 200 318.7ms\n",
      "\u001b[36m(ServeReplica:MersennePrimes:MersennePrimes pid=264036)\u001b[0m INFO 2025-03-24 04:48:54,095 MersennePrimes_MersennePrimes vqf068fk 96134a4a140810aea309ce1cf887183d -- GET /mprimes 200 330.6ms\n"
     ]
    },
    {
     "name": "stdout",
     "output_type": "stream",
     "text": [
      "\u001b[36m(ServeReplica:MersennePrimes:MersennePrimes pid=264037)\u001b[0m MersennePrimes called with 71 1564\n",
      "\u001b[36m(ServeReplica:MersennePrimes:MersennePrimes pid=264036)\u001b[0m MersennePrimes called with 71 1564\n"
     ]
    },
    {
     "name": "stderr",
     "output_type": "stream",
     "text": [
      "\u001b[36m(ServeReplica:MersennePrimes:MersennePrimes pid=264036)\u001b[0m INFO 2025-03-24 04:48:54,389 MersennePrimes_MersennePrimes vqf068fk 97a708cf316def5107c4341666c689e6 -- GET /mprimes 200 623.9ms\n"
     ]
    },
    {
     "name": "stdout",
     "output_type": "stream",
     "text": [
      "\u001b[36m(ServeReplica:MersennePrimes:MersennePrimes pid=264036)\u001b[0m MersennePrimes called with 71 1564\n",
      "\u001b[36m(ServeReplica:MersennePrimes:MersennePrimes pid=264037)\u001b[0m MersennePrimes called with 71 1564\n"
     ]
    },
    {
     "name": "stderr",
     "output_type": "stream",
     "text": [
      "\u001b[36m(ServeReplica:MersennePrimes:MersennePrimes pid=264036)\u001b[0m INFO 2025-03-24 04:48:54,753 MersennePrimes_MersennePrimes vqf068fk e063f20b832c6f93efa3eab3599df0b3 -- GET /mprimes 200 579.8ms\n",
      "\u001b[36m(ServeReplica:MersennePrimes:MersennePrimes pid=264037)\u001b[0m INFO 2025-03-24 04:48:54,748 MersennePrimes_MersennePrimes gdlyhmnd 4440c49dec514029e3b4ca262e56bd8f -- GET /mprimes 200 983.4ms\n",
      "\u001b[36m(ServeReplica:MersennePrimes:MersennePrimes pid=264037)\u001b[0m INFO 2025-03-24 04:48:54,749 MersennePrimes_MersennePrimes gdlyhmnd 2a25dec67c8c7b79d48a3859f9a2155b -- GET /mprimes 200 983.2ms\n"
     ]
    },
    {
     "name": "stdout",
     "output_type": "stream",
     "text": [
      "\u001b[36m(ServeReplica:MersennePrimes:MersennePrimes pid=264037)\u001b[0m MersennePrimes called with 71 1564\n",
      "\u001b[36m(ServeReplica:MersennePrimes:MersennePrimes pid=264036)\u001b[0m MersennePrimes called with 71 1564\n"
     ]
    },
    {
     "name": "stderr",
     "output_type": "stream",
     "text": [
      "\u001b[36m(ServeReplica:MersennePrimes:MersennePrimes pid=264036)\u001b[0m INFO 2025-03-24 04:48:55,039 MersennePrimes_MersennePrimes vqf068fk 018945c83bc550117c1eca7c8ab3c082 -- GET /mprimes 200 855.6ms\n",
      "\u001b[36m(ServeReplica:MersennePrimes:MersennePrimes pid=264037)\u001b[0m INFO 2025-03-24 04:48:55,092 MersennePrimes_MersennePrimes gdlyhmnd 22ccef4e0202f44db563675daebfc699 -- GET /mprimes 200 678.9ms\n"
     ]
    },
    {
     "name": "stdout",
     "output_type": "stream",
     "text": [
      "\u001b[36m(ServeReplica:MersennePrimes:MersennePrimes pid=264037)\u001b[0m MersennePrimes called with 71 1564\n",
      "\u001b[36m(ServeReplica:MersennePrimes:MersennePrimes pid=264036)\u001b[0m MersennePrimes called with 71 1564\n",
      "BAD REQUEST\n",
      "\u001b[36m(ServeReplica:MersennePrimes:MersennePrimes pid=264036)\u001b[0m MersennePrimes called with 71 1564\n"
     ]
    },
    {
     "name": "stderr",
     "output_type": "stream",
     "text": [
      "\u001b[36m(ServeReplica:MersennePrimes:MersennePrimes pid=264036)\u001b[0m INFO 2025-03-24 04:48:55,374 MersennePrimes_MersennePrimes vqf068fk f106aeb19c9e958b0ac57b0dce43507a -- GET /mprimes 200 539.0ms\n",
      "\u001b[36m(ServeReplica:MersennePrimes:MersennePrimes pid=264037)\u001b[0m INFO 2025-03-24 04:48:55,387 MersennePrimes_MersennePrimes gdlyhmnd 9138197cb6ab92a76ee4b3017df83fdb -- GET /mprimes 200 897.8ms\n",
      "\u001b[36m(ServeReplica:MersennePrimes:MersennePrimes pid=264036)\u001b[0m INFO 2025-03-24 04:48:55,685 MersennePrimes_MersennePrimes vqf068fk 4d11dd1b30c7e182ea27286837f7379d -- GET /mprimes 200 831.9ms\n"
     ]
    },
    {
     "name": "stdout",
     "output_type": "stream",
     "text": [
      "\u001b[36m(ServeReplica:MersennePrimes:MersennePrimes pid=264036)\u001b[0m MersennePrimes called with 71 1564\n",
      "\u001b[36m(ServeReplica:MersennePrimes:MersennePrimes pid=264036)\u001b[0m MersennePrimes called with 71 1564\n"
     ]
    },
    {
     "name": "stderr",
     "output_type": "stream",
     "text": [
      "\u001b[36m(ServeReplica:MersennePrimes:MersennePrimes pid=264036)\u001b[0m INFO 2025-03-24 04:48:56,023 MersennePrimes_MersennePrimes vqf068fk d5376855b9262f3bf6c60f9cdc72f221 -- GET /mprimes 200 939.1ms\n",
      "\u001b[36m(ServeReplica:MersennePrimes:MersennePrimes pid=264036)\u001b[0m INFO 2025-03-24 04:48:56,307 MersennePrimes_MersennePrimes vqf068fk e4310e8ed0fd181988065c86e6ef7bc6 -- GET /mprimes 200 1207.2ms\n"
     ]
    },
    {
     "name": "stdout",
     "output_type": "stream",
     "text": [
      "\u001b[36m(ServeReplica:MersennePrimes:MersennePrimes pid=264036)\u001b[0m MersennePrimes called with 71 1564\n",
      "\u001b[36m(ServeReplica:MersennePrimes:MersennePrimes pid=264036)\u001b[0m MersennePrimes called with 71 1564\n",
      "Responses received: 15\n",
      "Iteration 10 complete\n"
     ]
    },
    {
     "name": "stderr",
     "output_type": "stream",
     "text": [
      "\u001b[36m(ServeReplica:MersennePrimes:MersennePrimes pid=264036)\u001b[0m INFO 2025-03-24 04:48:56,900 MersennePrimes_MersennePrimes vqf068fk 0490935aa082b00e0860a8daba5b721b -- GET /mprimes 200 1499.1ms\n",
      "\u001b[36m(ServeReplica:MersennePrimes:MersennePrimes pid=264036)\u001b[0m INFO 2025-03-24 04:48:56,900 MersennePrimes_MersennePrimes vqf068fk 24e318b1be10baa8512623a086badc26 -- GET /mprimes 200 1479.0ms\n"
     ]
    },
    {
     "name": "stdout",
     "output_type": "stream",
     "text": [
      "Begin iteration 11\n",
      "Params: sleep_Seconds 32, start 76, stop 2022\n",
      "BAD REQUEST\n",
      "Responses received: 15\n",
      "Iteration 11 complete\n",
      "\u001b[36m(ServeReplica:MersennePrimes:MersennePrimes pid=264037)\u001b[0m MersennePrimes called with 76 2022\n",
      "\u001b[36m(ServeReplica:MersennePrimes:MersennePrimes pid=264037)\u001b[0m MersennePrimes called with 76 2022\n",
      "\u001b[36m(ServeReplica:MersennePrimes:MersennePrimes pid=264037)\u001b[0m MersennePrimes called with 76 2022\n",
      "\u001b[36m(ServeReplica:MersennePrimes:MersennePrimes pid=264037)\u001b[0m MersennePrimes called with 76 2022\n",
      "\u001b[36m(ServeReplica:MersennePrimes:MersennePrimes pid=264037)\u001b[0m MersennePrimes called with 76 2022\n",
      "\u001b[36m(ServeReplica:MersennePrimes:MersennePrimes pid=264037)\u001b[0m MersennePrimes called with 76 2022\n",
      "\u001b[36m(ServeReplica:MersennePrimes:MersennePrimes pid=264037)\u001b[0m MersennePrimes called with 76 2022\n",
      "\u001b[36m(ServeReplica:MersennePrimes:MersennePrimes pid=264037)\u001b[0m MersennePrimes called with 76 2022\n",
      "\u001b[36m(ServeReplica:MersennePrimes:MersennePrimes pid=264037)\u001b[0m MersennePrimes called with 76 2022\n",
      "\u001b[36m(ServeReplica:MersennePrimes:MersennePrimes pid=264037)\u001b[0m MersennePrimes called with 76 2022\n",
      "\u001b[36m(ServeReplica:MersennePrimes:MersennePrimes pid=264036)\u001b[0m MersennePrimes called with 76 2022\n",
      "\u001b[36m(ServeReplica:MersennePrimes:MersennePrimes pid=264036)\u001b[0m MersennePrimes called with 76 2022\n",
      "\u001b[36m(ServeReplica:MersennePrimes:MersennePrimes pid=264036)\u001b[0m MersennePrimes called with 76 2022\n",
      "\u001b[36m(ServeReplica:MersennePrimes:MersennePrimes pid=264036)\u001b[0m MersennePrimes called with 76 2022\n",
      "\u001b[36m(ServeReplica:MersennePrimes:MersennePrimes pid=264036)\u001b[0m MersennePrimes called with 76 2022\n"
     ]
    },
    {
     "name": "stderr",
     "output_type": "stream",
     "text": [
      "\u001b[36m(ServeReplica:MersennePrimes:MersennePrimes pid=264036)\u001b[0m INFO 2025-03-24 04:49:08,910 MersennePrimes_MersennePrimes vqf068fk 533ab900c6c9acf0e90a1f02de4f0abd -- GET /mprimes 200 2.4ms\n",
      "\u001b[36m(ServeReplica:MersennePrimes:MersennePrimes pid=264036)\u001b[0m INFO 2025-03-24 04:49:08,911 MersennePrimes_MersennePrimes vqf068fk 0164e4a99b1249458fd028d54bd6b5bd -- GET /mprimes 200 2.9ms\n",
      "\u001b[36m(ServeReplica:MersennePrimes:MersennePrimes pid=264036)\u001b[0m INFO 2025-03-24 04:49:08,912 MersennePrimes_MersennePrimes vqf068fk b9ccfd4994373b93d6e3c42669d68bb8 -- GET /mprimes 200 2.8ms\n",
      "\u001b[36m(ServeReplica:MersennePrimes:MersennePrimes pid=264036)\u001b[0m INFO 2025-03-24 04:49:08,925 MersennePrimes_MersennePrimes vqf068fk 4419b1c6d66c27c6b54cd9f03474e960 -- GET /mprimes 200 2.5ms\n",
      "\u001b[36m(ServeReplica:MersennePrimes:MersennePrimes pid=264036)\u001b[0m INFO 2025-03-24 04:49:08,925 MersennePrimes_MersennePrimes vqf068fk 63ff3b89f7c477ed3736d5d3eb121273 -- GET /mprimes 200 2.7ms\n",
      "\u001b[36m(ServeReplica:MersennePrimes:MersennePrimes pid=264037)\u001b[0m INFO 2025-03-24 04:49:08,910 MersennePrimes_MersennePrimes gdlyhmnd cf0e888b02025586ccfdc428fbb49a65 -- GET /mprimes 200 2.5ms\n",
      "\u001b[36m(ServeReplica:MersennePrimes:MersennePrimes pid=264037)\u001b[0m INFO 2025-03-24 04:49:08,910 MersennePrimes_MersennePrimes gdlyhmnd 0dae9cdb2f5b9ef7522d9af7f9436719 -- GET /mprimes 200 1.9ms\n",
      "\u001b[36m(ServeReplica:MersennePrimes:MersennePrimes pid=264037)\u001b[0m INFO 2025-03-24 04:49:08,918 MersennePrimes_MersennePrimes gdlyhmnd cf6132d1c31b2593db8652900a6ce508 -- GET /mprimes 200 3.6ms\n",
      "\u001b[36m(ServeReplica:MersennePrimes:MersennePrimes pid=264037)\u001b[0m INFO 2025-03-24 04:49:08,920 MersennePrimes_MersennePrimes gdlyhmnd 1d8ada35c72052d29aac012b9f3ac59d -- GET /mprimes 200 4.2ms\n",
      "\u001b[36m(ServeReplica:MersennePrimes:MersennePrimes pid=264037)\u001b[0m INFO 2025-03-24 04:49:08,920 MersennePrimes_MersennePrimes gdlyhmnd 7cf62e2dd728e3cf9830e6661df875a6 -- GET /mprimes 200 4.1ms\n",
      "\u001b[36m(ServeReplica:MersennePrimes:MersennePrimes pid=264037)\u001b[0m INFO 2025-03-24 04:49:08,921 MersennePrimes_MersennePrimes gdlyhmnd c46d73d6f1aa24a3b92034290882c61e -- GET /mprimes 200 3.4ms\n",
      "\u001b[36m(ServeReplica:MersennePrimes:MersennePrimes pid=264037)\u001b[0m INFO 2025-03-24 04:49:08,921 MersennePrimes_MersennePrimes gdlyhmnd 87d4428cadbaffb0155e0e71585074d4 -- GET /mprimes 200 2.9ms\n",
      "\u001b[36m(ServeReplica:MersennePrimes:MersennePrimes pid=264037)\u001b[0m INFO 2025-03-24 04:49:08,927 MersennePrimes_MersennePrimes gdlyhmnd 84f27573d30094a867acf29b669d8f1c -- GET /mprimes 200 2.2ms\n",
      "\u001b[36m(ServeReplica:MersennePrimes:MersennePrimes pid=264037)\u001b[0m INFO 2025-03-24 04:49:08,928 MersennePrimes_MersennePrimes gdlyhmnd 24551039433b98178d622cec413d85f0 -- GET /mprimes 200 2.2ms\n",
      "\u001b[36m(ServeReplica:MersennePrimes:MersennePrimes pid=264037)\u001b[0m INFO 2025-03-24 04:49:08,929 MersennePrimes_MersennePrimes gdlyhmnd 7b2370f3e08a97923346225e64569bf1 -- GET /mprimes 200 2.0ms\n"
     ]
    },
    {
     "name": "stdout",
     "output_type": "stream",
     "text": [
      "Begin iteration 12\n",
      "Params: sleep_Seconds 16, start 97, stop 3728\n",
      "\u001b[36m(ServeReplica:MersennePrimes:MersennePrimes pid=264037)\u001b[0m MersennePrimes called with 97 3728\n",
      "\u001b[36m(ServeReplica:MersennePrimes:MersennePrimes pid=264036)\u001b[0m MersennePrimes called with 97 3728\n"
     ]
    },
    {
     "name": "stderr",
     "output_type": "stream",
     "text": [
      "\u001b[36m(ServeReplica:MersennePrimes:MersennePrimes pid=264037)\u001b[0m INFO 2025-03-24 04:49:48,989 MersennePrimes_MersennePrimes gdlyhmnd ade8e969a8ff365ef032ceb817249e32 -- GET /mprimes 200 8053.3ms\n"
     ]
    },
    {
     "name": "stdout",
     "output_type": "stream",
     "text": [
      "\u001b[36m(ServeReplica:MersennePrimes:MersennePrimes pid=264037)\u001b[0m MersennePrimes called with 97 3728\n"
     ]
    },
    {
     "name": "stderr",
     "output_type": "stream",
     "text": [
      "\u001b[36m(ServeReplica:MersennePrimes:MersennePrimes pid=264036)\u001b[0m INFO 2025-03-24 04:49:49,186 MersennePrimes_MersennePrimes vqf068fk a3cbc6d53612f5fa78f8653ea51f4a33 -- GET /mprimes 200 8250.2ms\n"
     ]
    },
    {
     "name": "stdout",
     "output_type": "stream",
     "text": [
      "\u001b[36m(ServeReplica:MersennePrimes:MersennePrimes pid=264036)\u001b[0m MersennePrimes called with 97 3728\n"
     ]
    },
    {
     "name": "stderr",
     "output_type": "stream",
     "text": [
      "\u001b[36m(ServeReplica:MersennePrimes:MersennePrimes pid=264037)\u001b[0m INFO 2025-03-24 04:49:57,109 MersennePrimes_MersennePrimes gdlyhmnd d3873e412c5c04d6e671922c0611ab3f -- GET /mprimes 200 16172.8ms\n"
     ]
    },
    {
     "name": "stdout",
     "output_type": "stream",
     "text": [
      "\u001b[36m(ServeReplica:MersennePrimes:MersennePrimes pid=264037)\u001b[0m MersennePrimes called with 97 3728\n",
      "\u001b[36m(ServeReplica:MersennePrimes:MersennePrimes pid=264036)\u001b[0m MersennePrimes called with 97 3728\n"
     ]
    }
   ],
   "source": [
    "for i in range(ITERATIONS):\n",
    "    print(f\"Begin iteration {i}\")\n",
    "    sleep_seconds = random.randint(1,60)\n",
    "    start = random.randint(3, 100)\n",
    "    stop = random.randint(240,4000)\n",
    "    \n",
    "    print(f\"Params: sleep_Seconds {sleep_seconds}, start {start}, stop {stop}\")\n",
    "    pool = concurrent.futures.ThreadPoolExecutor(max_workers=CONCURRENCY)\n",
    "    \n",
    "    futures = []\n",
    "    for _ in range(TOTAL_CALLS_PER_ITERATION):\n",
    "        futures.append(pool.submit(invoke_mprime_application, start, stop))\n",
    "        \n",
    "    response_count = 0\n",
    "    for f in futures:\n",
    "        res = f.result() # Blocks until result is returned\n",
    "        if random.random() < PROBABILTY_OF_BAD_REQUEST:\n",
    "            bad_request()\n",
    "        response_count += 1\n",
    "        \n",
    "    print(f\"Responses received: {response_count}\")\n",
    "    print(f\"Iteration {i} complete\")\n",
    "    sleep(sleep_seconds)"
   ]
  },
  {
   "cell_type": "markdown",
   "id": "5612dca4-37c5-45c8-a299-c6378bfde217",
   "metadata": {},
   "source": [
    "## Cleanup"
   ]
  },
  {
   "cell_type": "code",
   "execution_count": 39,
   "id": "91d4ec3a-6b65-4937-9ccc-0d46ee31252a",
   "metadata": {
    "tags": []
   },
   "outputs": [
    {
     "name": "stderr",
     "output_type": "stream",
     "text": [
      "INFO 2025-03-01 17:55:04,600 serve 2116265 -- Deleting app ['MersennePrimes']\n"
     ]
    }
   ],
   "source": [
    "from ray import serve\n",
    "\n",
    "serve.delete(\"MersennePrimes\")"
   ]
  },
  {
   "cell_type": "code",
   "execution_count": 40,
   "id": "a7032b4e-543e-4a32-8a7c-d3a895b6813f",
   "metadata": {
    "tags": []
   },
   "outputs": [],
   "source": [
    "ray.shutdown()"
   ]
  }
 ],
 "metadata": {
  "kernelspec": {
   "display_name": "Python 3.11 for LLM",
   "language": "python",
   "name": "llm-python-3-11"
  },
  "language_info": {
   "codemirror_mode": {
    "name": "ipython",
    "version": 3
   },
   "file_extension": ".py",
   "mimetype": "text/x-python",
   "name": "python",
   "nbconvert_exporter": "python",
   "pygments_lexer": "ipython3",
   "version": "3.11.8"
  }
 },
 "nbformat": 4,
 "nbformat_minor": 5
}
