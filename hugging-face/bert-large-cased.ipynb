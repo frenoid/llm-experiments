{
 "cells": [
  {
   "cell_type": "code",
   "execution_count": 1,
   "id": "2b314478-5113-4705-b8f4-d9f49564459a",
   "metadata": {
    "tags": []
   },
   "outputs": [
    {
     "data": {
      "text/plain": [
       "'cuda:0'"
      ]
     },
     "execution_count": 1,
     "metadata": {},
     "output_type": "execute_result"
    }
   ],
   "source": [
    "import torch\n",
    "device = \"cuda:0\" if torch.cuda.is_available() else \"cpu\"\n",
    "device"
   ]
  },
  {
   "cell_type": "code",
   "execution_count": 2,
   "id": "d420dd31-8718-4519-af35-8cbee172422c",
   "metadata": {
    "tags": []
   },
   "outputs": [
    {
     "name": "stderr",
     "output_type": "stream",
     "text": [
      "/opt/conda/envs/llm-python3-11/lib/python3.11/site-packages/tqdm/auto.py:21: TqdmWarning: IProgress not found. Please update jupyter and ipywidgets. See https://ipywidgets.readthedocs.io/en/stable/user_install.html\n",
      "  from .autonotebook import tqdm as notebook_tqdm\n"
     ]
    }
   ],
   "source": [
    "from transformers import BertTokenizer, BertModel\n",
    "tokenizer = BertTokenizer.from_pretrained('bert-large-cased')\n",
    "model = BertModel.from_pretrained(\"bert-large-cased\").to(device)"
   ]
  },
  {
   "cell_type": "code",
   "execution_count": 3,
   "id": "ac8708c6-c674-4113-8f39-c860a23db165",
   "metadata": {
    "tags": []
   },
   "outputs": [
    {
     "data": {
      "text/plain": [
       "{'input_ids': tensor([[ 101, 2091, 1128, 1341, 1122,  112,  188, 2407,  102]],\n",
       "       device='cuda:0'), 'token_type_ids': tensor([[0, 0, 0, 0, 0, 0, 0, 0, 0]], device='cuda:0'), 'attention_mask': tensor([[1, 1, 1, 1, 1, 1, 1, 1, 1]], device='cuda:0')}"
      ]
     },
     "execution_count": 3,
     "metadata": {},
     "output_type": "execute_result"
    }
   ],
   "source": [
    "text = \"Do you think it's ready\"\n",
    "encoded_input = tokenizer(text, return_tensors='pt').to(device)\n",
    "\n",
    "encoded_input"
   ]
  },
  {
   "cell_type": "code",
   "execution_count": 4,
   "id": "c7337411-118c-48b7-a2f8-a6f2b0a3ca27",
   "metadata": {
    "tags": []
   },
   "outputs": [
    {
     "data": {
      "text/plain": [
       "BaseModelOutputWithPoolingAndCrossAttentions(last_hidden_state=tensor([[[ 0.0744, -0.1985,  0.4982,  ..., -0.0806, -0.5680,  0.1861],\n",
       "         [-0.2691, -1.2349,  0.2634,  ..., -0.8351, -0.0217, -0.2262],\n",
       "         [ 0.7555, -0.0051,  0.7127,  ..., -0.2848,  0.1065,  0.4599],\n",
       "         ...,\n",
       "         [ 0.2606,  0.8275,  0.7841,  ..., -0.0678, -0.5081,  0.1346],\n",
       "         [ 0.2130,  0.7250,  0.0687,  ..., -0.8458, -0.3328,  0.3544],\n",
       "         [ 0.1608,  0.0472,  0.1455,  ..., -0.0253, -0.2450, -0.1499]]],\n",
       "       device='cuda:0', grad_fn=<NativeLayerNormBackward0>), pooler_output=tensor([[ 0.9951,  0.9703,  0.9986,  ..., -0.9990, -0.2509,  0.9805]],\n",
       "       device='cuda:0', grad_fn=<TanhBackward0>), hidden_states=None, past_key_values=None, attentions=None, cross_attentions=None)"
      ]
     },
     "execution_count": 4,
     "metadata": {},
     "output_type": "execute_result"
    }
   ],
   "source": [
    "output = model(**encoded_input)\n",
    "output"
   ]
  },
  {
   "cell_type": "code",
   "execution_count": 5,
   "id": "8c43cca9-a3ab-4a49-a183-eb532dddc478",
   "metadata": {
    "tags": []
   },
   "outputs": [],
   "source": [
    "# This will clear the GPU memory\n",
    "\n",
    "from numba import cuda\n",
    "\n",
    "device = cuda.get_current_device()\n",
    "device.reset()"
   ]
  }
 ],
 "metadata": {
  "kernelspec": {
   "display_name": "Python 3.11 for LLM",
   "language": "python",
   "name": "llm-python-3-11"
  },
  "language_info": {
   "codemirror_mode": {
    "name": "ipython",
    "version": 3
   },
   "file_extension": ".py",
   "mimetype": "text/x-python",
   "name": "python",
   "nbconvert_exporter": "python",
   "pygments_lexer": "ipython3",
   "version": "3.11.8"
  }
 },
 "nbformat": 4,
 "nbformat_minor": 5
}
