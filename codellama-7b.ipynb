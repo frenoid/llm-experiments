{
 "cells": [
  {
   "cell_type": "code",
   "execution_count": 1,
   "id": "511ce30c-ae8c-4740-bb62-d5af33509ca1",
   "metadata": {
    "tags": []
   },
   "outputs": [
    {
     "name": "stderr",
     "output_type": "stream",
     "text": [
      "/opt/conda/envs/llm-python3-11/lib/python3.11/site-packages/torch/cuda/__init__.py:141: UserWarning: CUDA initialization: Unexpected error from cudaGetDeviceCount(). Did you run some cuda functions before calling NumCudaDevices() that might have already set an error? Error 803: system has unsupported display driver / cuda driver combination (Triggered internally at ../c10/cuda/CUDAFunctions.cpp:108.)\n",
      "  return torch._C._cuda_getDeviceCount() > 0\n"
     ]
    },
    {
     "data": {
      "text/plain": [
       "False"
      ]
     },
     "execution_count": 1,
     "metadata": {},
     "output_type": "execute_result"
    }
   ],
   "source": [
    "import torch\n",
    "torch.cuda.is_available()"
   ]
  },
  {
   "cell_type": "code",
   "execution_count": 2,
   "id": "a51f22df-2f82-4502-ac84-28324a8346f9",
   "metadata": {
    "tags": []
   },
   "outputs": [
    {
     "data": {
      "text/plain": [
       "'cpu'"
      ]
     },
     "execution_count": 2,
     "metadata": {},
     "output_type": "execute_result"
    }
   ],
   "source": [
    "device = \"cuda:0\" if torch.cuda.is_available() else \"cpu\"\n",
    "device"
   ]
  },
  {
   "cell_type": "code",
   "execution_count": 3,
   "id": "0169a5ad-c726-4185-a2a1-8e9c0bd4670c",
   "metadata": {
    "tags": []
   },
   "outputs": [
    {
     "name": "stderr",
     "output_type": "stream",
     "text": [
      "/opt/conda/envs/llm-python3-11/lib/python3.11/site-packages/tqdm/auto.py:21: TqdmWarning: IProgress not found. Please update jupyter and ipywidgets. See https://ipywidgets.readthedocs.io/en/stable/user_install.html\n",
      "  from .autonotebook import tqdm as notebook_tqdm\n"
     ]
    }
   ],
   "source": [
    "from transformers import LlamaForCausalLM, CodeLlamaTokenizer"
   ]
  },
  {
   "cell_type": "code",
   "execution_count": 7,
   "id": "74ef0326-9ad7-4090-a549-58f9bfb88207",
   "metadata": {
    "tags": []
   },
   "outputs": [],
   "source": [
    "tokenizer = CodeLlamaTokenizer.from_pretrained(\"codellama/CodeLlama-7b-hf\")"
   ]
  },
  {
   "cell_type": "code",
   "execution_count": 4,
   "id": "99bc4afc-a807-4a8e-8b8e-db5f54bab896",
   "metadata": {
    "tags": []
   },
   "outputs": [
    {
     "name": "stderr",
     "output_type": "stream",
     "text": [
      "Downloading shards: 100%|██████████| 2/2 [00:00<00:00,  3.19it/s]\n",
      "Loading checkpoint shards: 100%|██████████| 2/2 [00:03<00:00,  1.87s/it]\n"
     ]
    }
   ],
   "source": [
    "# This runs on GPU\n",
    "# The GPU is likely to run out of memory\n",
    "# model = LlamaForCausalLM.from_pretrained(\"codellama/CodeLlama-7b-hf\").to(device)"
   ]
  },
  {
   "cell_type": "code",
   "execution_count": 5,
   "id": "4de72827-1fa8-489e-aa0f-744b6ec312e3",
   "metadata": {
    "tags": []
   },
   "outputs": [
    {
     "name": "stderr",
     "output_type": "stream",
     "text": [
      "Loading checkpoint shards: 100%|██████████| 2/2 [00:06<00:00,  3.03s/it]\n"
     ]
    }
   ],
   "source": [
    "# This runs on cpu\n",
    "model = LlamaForCausalLM.from_pretrained(\"codellama/CodeLlama-7b-hf\")"
   ]
  },
  {
   "cell_type": "code",
   "execution_count": 8,
   "id": "3d63b70d-f34c-447a-9977-87946faa8340",
   "metadata": {
    "tags": []
   },
   "outputs": [
    {
     "name": "stderr",
     "output_type": "stream",
     "text": [
      "The attention mask and the pad token id were not set. As a consequence, you may observe unexpected behavior. Please pass your input's `attention_mask` to obtain reliable results.\n",
      "Setting `pad_token_id` to `eos_token_id`:2 for open-end generation.\n"
     ]
    },
    {
     "name": "stdout",
     "output_type": "stream",
     "text": [
      "def remove_non_ascii(s: str) -> str:\n",
      "\"\"\" Remove non-ASCII characters from a string.\n",
      "\n",
      "Args:\n",
      "    s (str): The string to remove non-ASCII characters from.\n",
      "\n",
      "Returns:\n",
      "    str: The string with non-ASCII characters removed.\n",
      "\"\"\"\n",
      "\n",
      "result = \"\"\n",
      "for c in s:\n",
      "    if ord(c) < 128:\n",
      "        result += c\n",
      "return result\n",
      "\n"
     ]
    }
   ],
   "source": [
    "PROMPT = '''def remove_non_ascii(s: str) -> str:\n",
    "\"\"\" <FILL_ME>\n",
    "return result\n",
    "'''\n",
    "\n",
    "# This will force a run on GPU\n",
    "# input_ids = tokenizer(PROMPT, return_tensors=\"pt\").to(device)[\"input_ids\"]  # Ensure tokenizer runs on GPU\n",
    "\n",
    "input_ids = tokenizer(PROMPT, return_tensors=\"pt\")[\"input_ids\"] \n",
    "generated_ids = model.generate(input_ids, max_new_tokens=128)\n",
    "filling = tokenizer.batch_decode(generated_ids[:, input_ids.shape[1]:], skip_special_tokens = True)[0]\n",
    "\n",
    "print(PROMPT.replace(\"<FILL_ME>\", filling))"
   ]
  },
  {
   "cell_type": "code",
   "execution_count": null,
   "id": "486b3219-e393-4ceb-9c59-e9dd3a3b1218",
   "metadata": {},
   "outputs": [],
   "source": [
    "from numba import cuda\n",
    "device = cuda.get_current_device()\n",
    "device.reset()"
   ]
  }
 ],
 "metadata": {
  "kernelspec": {
   "display_name": "Python 3.11 for LLM",
   "language": "python",
   "name": "llm-python-3-11"
  },
  "language_info": {
   "codemirror_mode": {
    "name": "ipython",
    "version": 3
   },
   "file_extension": ".py",
   "mimetype": "text/x-python",
   "name": "python",
   "nbconvert_exporter": "python",
   "pygments_lexer": "ipython3",
   "version": "3.11.8"
  }
 },
 "nbformat": 4,
 "nbformat_minor": 5
}
